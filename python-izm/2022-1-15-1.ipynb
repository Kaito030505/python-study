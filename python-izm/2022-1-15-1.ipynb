{
 "cells": [
  {
   "cell_type": "markdown",
   "id": "d6c9a232",
   "metadata": {},
   "source": [
    "# 要素の一括真偽判定"
   ]
  },
  {
   "cell_type": "code",
   "execution_count": 20,
   "id": "696314f2",
   "metadata": {},
   "outputs": [
    {
     "name": "stdout",
     "output_type": "stream",
     "text": [
      "False\n",
      "False\n",
      "True\n"
     ]
    }
   ],
   "source": [
    "test_list_1 = [0, 100, 300, 800, 150, 0, 40]\n",
    "test_list_2 = ([], [], [])\n",
    "test_list_3 = (['python', 'izm', 'com'], ['www'], ['http'])\n",
    " \n",
    "print(all(test_list_1))\n",
    "print(all(test_list_2))\n",
    "print(all(test_list_3))"
   ]
  },
  {
   "cell_type": "markdown",
   "id": "f9369186",
   "metadata": {},
   "source": [
    "1. 0、空のリスト→'False'\n",
    "2. 一個でも0もしくは空のリストがあれば'False'を返す"
   ]
  },
  {
   "cell_type": "markdown",
   "id": "51c9d6f5",
   "metadata": {},
   "source": [
    "・参考"
   ]
  },
  {
   "cell_type": "raw",
   "id": "16c8b979",
   "metadata": {},
   "source": [
    "def all(iterable):\n",
    "    for element in iterable:\n",
    "        if not element:\n",
    "            return False\n",
    "    return True"
   ]
  },
  {
   "cell_type": "code",
   "execution_count": 4,
   "id": "0b73b3cd",
   "metadata": {},
   "outputs": [
    {
     "name": "stdout",
     "output_type": "stream",
     "text": [
      "True\n",
      "False\n",
      "True\n"
     ]
    }
   ],
   "source": [
    "test_list_1 = [0, 100, 300, 800, 150, 0, 40]\n",
    "test_list_2 = ([], [], [])\n",
    "test_list_3 = (['python', 'izm', 'com'], ['www'], ['http'])\n",
    " \n",
    "print(any(test_list_1))\n",
    "print(any(test_list_2))\n",
    "print(any(test_list_3))"
   ]
  },
  {
   "cell_type": "markdown",
   "id": "8347be66",
   "metadata": {},
   "source": [
    "1. 0，空のリスト→'False'\n",
    "2. 一個でも要素があれば'True'を返す。\n",
    "\n",
    "allとanyは逆"
   ]
  },
  {
   "cell_type": "markdown",
   "id": "603e3f06",
   "metadata": {},
   "source": [
    "・参考"
   ]
  },
  {
   "cell_type": "raw",
   "id": "18364ec4",
   "metadata": {},
   "source": [
    "def any(iterable):\n",
    "    for element in iterable:\n",
    "        if element:\n",
    "            return True\n",
    "    return False"
   ]
  },
  {
   "cell_type": "markdown",
   "id": "5a3ee8db",
   "metadata": {},
   "source": [
    "# 順序保持ディクショナリ"
   ]
  },
  {
   "cell_type": "markdown",
   "id": "6b29273d",
   "metadata": {},
   "source": [
    "バージョンが3.8.8だったため飛ばします。代わりにバージョン確認方法を書いておきます。\n",
    "\n",
    "アナコンダコマンドプロンプトを開いて以下のコマンドを実行する。"
   ]
  },
  {
   "cell_type": "raw",
   "id": "d06fe79b",
   "metadata": {},
   "source": [
    "C:\\Users\\USER>python --version"
   ]
  },
  {
   "cell_type": "markdown",
   "id": "60eb4427",
   "metadata": {},
   "source": [
    "# セットの比較・作成・更新"
   ]
  },
  {
   "cell_type": "code",
   "execution_count": 5,
   "id": "fe607507",
   "metadata": {},
   "outputs": [
    {
     "name": "stdout",
     "output_type": "stream",
     "text": [
      "False\n",
      "True\n",
      "----------------------------\n",
      "False\n",
      "True\n",
      "----------------------------\n",
      "True\n",
      "False\n"
     ]
    }
   ],
   "source": [
    "test_set_1 = set({'python', '-', 'izm', '.', 'com'})\n",
    " \n",
    "print(test_set_1.isdisjoint({'python', 'izm'}))\n",
    "print(test_set_1.isdisjoint({1, 2, 3}))\n",
    " \n",
    "print('----------------------------')\n",
    " \n",
    "print(test_set_1.issubset({'python', 'izm'}))\n",
    "print(test_set_1.issubset({'www', 'python', '-', 'izm', '.', 'com'}))\n",
    " \n",
    "print('----------------------------')\n",
    " \n",
    "print(test_set_1.issuperset({'python', 'izm'}))\n",
    "print(test_set_1.issuperset({'www', 'python', '-', 'izm', '.', 'com'}))"
   ]
  },
  {
   "cell_type": "markdown",
   "id": "7bce78a2",
   "metadata": {},
   "source": [
    "Pythonのset型とは、集合を扱うための型  \n",
    "https://www.sejuku.net/blog/21923  "
   ]
  },
  {
   "cell_type": "code",
   "execution_count": 6,
   "id": "76b4b7dd",
   "metadata": {},
   "outputs": [
    {
     "name": "stdout",
     "output_type": "stream",
     "text": [
      "{1, 2, 3, 4}\n",
      "{1, 2, 3}\n"
     ]
    }
   ],
   "source": [
    "myset = set([1,2,3])\n",
    "myset.add(4)\n",
    "print(myset)\n",
    "myset.remove(4)\n",
    "print(myset)"
   ]
  },
  {
   "cell_type": "markdown",
   "id": "56b99957",
   "metadata": {},
   "source": [
    "## 和集合 unionメソッド"
   ]
  },
  {
   "cell_type": "code",
   "execution_count": 7,
   "id": "55145edf",
   "metadata": {},
   "outputs": [
    {
     "name": "stdout",
     "output_type": "stream",
     "text": [
      "{1, 2, 3, 4, 5}\n"
     ]
    }
   ],
   "source": [
    "A = {1,2,3}\n",
    "B = {3,4,5}\n",
    " \n",
    "C = A | B\n",
    "print(C)"
   ]
  },
  {
   "cell_type": "markdown",
   "id": "191a6ccf",
   "metadata": {},
   "source": [
    "演算子 | (パイプ)を用いたパターン"
   ]
  },
  {
   "cell_type": "code",
   "execution_count": 8,
   "id": "5f01ce5c",
   "metadata": {},
   "outputs": [
    {
     "name": "stdout",
     "output_type": "stream",
     "text": [
      "{1, 2, 3, 4, 5}\n"
     ]
    }
   ],
   "source": [
    "C = A.union(B)\n",
    "print(C)"
   ]
  },
  {
   "cell_type": "markdown",
   "id": "d29ab43a",
   "metadata": {},
   "source": [
    "unionメソッドを用いたパターン"
   ]
  },
  {
   "cell_type": "markdown",
   "id": "31ec858c",
   "metadata": {},
   "source": [
    "## 積集合 intersectionメソッド"
   ]
  },
  {
   "cell_type": "code",
   "execution_count": 9,
   "id": "dd322a83",
   "metadata": {},
   "outputs": [
    {
     "name": "stdout",
     "output_type": "stream",
     "text": [
      "{3}\n"
     ]
    }
   ],
   "source": [
    "C = A & B\n",
    "print(C)"
   ]
  },
  {
   "cell_type": "markdown",
   "id": "bf62d25e",
   "metadata": {},
   "source": [
    "演算子&を用いたパターン"
   ]
  },
  {
   "cell_type": "code",
   "execution_count": 10,
   "id": "c2f8bd08",
   "metadata": {},
   "outputs": [
    {
     "name": "stdout",
     "output_type": "stream",
     "text": [
      "{3}\n"
     ]
    }
   ],
   "source": [
    "C = A.intersection(B)\n",
    "print(C)"
   ]
  },
  {
   "cell_type": "markdown",
   "id": "ccd94812",
   "metadata": {},
   "source": [
    "intersectionメソッドを用いたパターン"
   ]
  },
  {
   "cell_type": "markdown",
   "id": "f4efd075",
   "metadata": {},
   "source": [
    "## 差集合 differenceメソッド"
   ]
  },
  {
   "cell_type": "code",
   "execution_count": 11,
   "id": "ce715b00",
   "metadata": {},
   "outputs": [
    {
     "name": "stdout",
     "output_type": "stream",
     "text": [
      "{1, 2}\n"
     ]
    }
   ],
   "source": [
    "C = A - B\n",
    "print(C)"
   ]
  },
  {
   "cell_type": "markdown",
   "id": "4e5b7336",
   "metadata": {},
   "source": [
    "演算子 -を用いたパターン"
   ]
  },
  {
   "cell_type": "code",
   "execution_count": 12,
   "id": "04b21908",
   "metadata": {},
   "outputs": [
    {
     "name": "stdout",
     "output_type": "stream",
     "text": [
      "{1, 2}\n"
     ]
    }
   ],
   "source": [
    "C = A.difference(B)\n",
    "print(C)"
   ]
  },
  {
   "cell_type": "markdown",
   "id": "5782e77f",
   "metadata": {},
   "source": [
    "differrenceメソッドを用いたパターン"
   ]
  },
  {
   "cell_type": "markdown",
   "id": "10f6403f",
   "metadata": {},
   "source": [
    "## 排他的論理和集合 symmetric_differenceメソッド"
   ]
  },
  {
   "cell_type": "code",
   "execution_count": 13,
   "id": "fff13084",
   "metadata": {},
   "outputs": [
    {
     "name": "stdout",
     "output_type": "stream",
     "text": [
      "{1, 2, 4, 5}\n"
     ]
    }
   ],
   "source": [
    "C = A ^ B\n",
    "print(C)"
   ]
  },
  {
   "cell_type": "markdown",
   "id": "9da0ec4a",
   "metadata": {},
   "source": [
    "演算子 ＾を用いたパターン"
   ]
  },
  {
   "cell_type": "code",
   "execution_count": 14,
   "id": "58437a9b",
   "metadata": {},
   "outputs": [
    {
     "name": "stdout",
     "output_type": "stream",
     "text": [
      "{1, 2, 4, 5}\n"
     ]
    }
   ],
   "source": [
    "C = A.symmetric_difference(B)\n",
    "print(C)"
   ]
  },
  {
   "cell_type": "markdown",
   "id": "6e3d4867",
   "metadata": {},
   "source": [
    "symmetric_differenceメソッドを用いたパターン"
   ]
  },
  {
   "cell_type": "markdown",
   "id": "5a92885c",
   "metadata": {},
   "source": [
    "## isdisjointメソッド"
   ]
  },
  {
   "cell_type": "code",
   "execution_count": 15,
   "id": "03fb35a8",
   "metadata": {},
   "outputs": [
    {
     "name": "stdout",
     "output_type": "stream",
     "text": [
      "False\n"
     ]
    }
   ],
   "source": [
    "C=A.isdisjoint(B)\n",
    "print(C)"
   ]
  },
  {
   "cell_type": "markdown",
   "id": "dcec5d78",
   "metadata": {},
   "source": [
    "AとBに同じ要素が一切ない場合、Trueを返す。"
   ]
  },
  {
   "cell_type": "markdown",
   "id": "a7b8a0e0",
   "metadata": {},
   "source": [
    "## issubsetメソッド"
   ]
  },
  {
   "cell_type": "code",
   "execution_count": 19,
   "id": "adb09df1",
   "metadata": {},
   "outputs": [
    {
     "name": "stdout",
     "output_type": "stream",
     "text": [
      "False\n"
     ]
    }
   ],
   "source": [
    "C=A.issuperset(B)\n",
    "print(C)"
   ]
  },
  {
   "cell_type": "markdown",
   "id": "fcbe796a",
   "metadata": {},
   "source": [
    "Bの要素がすべてAに含まれている場合Trueを返す。"
   ]
  },
  {
   "cell_type": "markdown",
   "id": "fb304f5e",
   "metadata": {},
   "source": [
    "## issupersetメソッド"
   ]
  },
  {
   "cell_type": "code",
   "execution_count": 17,
   "id": "6b4a4587",
   "metadata": {},
   "outputs": [
    {
     "name": "stdout",
     "output_type": "stream",
     "text": [
      "False\n"
     ]
    }
   ],
   "source": [
    "C=A.issuperset(B)\n",
    "print(C)"
   ]
  },
  {
   "cell_type": "markdown",
   "id": "ef24a6f6",
   "metadata": {},
   "source": [
    "Aの要素すべてがBに含まれている場合Trueを返す。"
   ]
  }
 ],
 "metadata": {
  "kernelspec": {
   "display_name": "Python 3",
   "language": "python",
   "name": "python3"
  },
  "language_info": {
   "codemirror_mode": {
    "name": "ipython",
    "version": 3
   },
   "file_extension": ".py",
   "mimetype": "text/x-python",
   "name": "python",
   "nbconvert_exporter": "python",
   "pygments_lexer": "ipython3",
   "version": "3.8.8"
  }
 },
 "nbformat": 4,
 "nbformat_minor": 5
}
