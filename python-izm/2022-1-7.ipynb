{
 "cells": [
  {
   "cell_type": "markdown",
   "id": "2c4b98a5",
   "metadata": {},
   "source": [
    "# リストの逆順"
   ]
  },
  {
   "cell_type": "code",
   "execution_count": 2,
   "id": "54a73e61",
   "metadata": {},
   "outputs": [
    {
     "name": "stdout",
     "output_type": "stream",
     "text": [
      "---------------------------------\n",
      "【そのまま表示】\n",
      "python\n",
      "izm\n",
      "sample\n",
      "list\n",
      "reversed\n",
      "---------------------------------\n",
      "【逆順表示】\n",
      "reversed\n",
      "list\n",
      "sample\n",
      "izm\n",
      "python\n"
     ]
    }
   ],
   "source": [
    "python_list = []\n",
    "python_list.append('python')\n",
    "python_list.append('izm')\n",
    "python_list.append('sample')\n",
    "python_list.append('list')\n",
    "python_list.append('reversed')\n",
    " \n",
    "print('---------------------------------')\n",
    "print('【そのまま表示】')\n",
    "for value in python_list:\n",
    "    print(value)\n",
    "\n",
    "python_list.reverse()\n",
    " \n",
    "print('---------------------------------')\n",
    "print('【逆順表示】')\n",
    "for value in python_list:\n",
    "    print(value)"
   ]
  },
  {
   "cell_type": "code",
   "execution_count": 6,
   "id": "9a247d19",
   "metadata": {},
   "outputs": [
    {
     "name": "stdout",
     "output_type": "stream",
     "text": [
      "---------------------------------\n",
      "【そのまま表示】\n",
      "python\n",
      "izm\n",
      "sample\n",
      "list\n",
      "reversed\n",
      "---------------------------------\n",
      "【逆順表示】\n",
      "reversed\n",
      "list\n",
      "sample\n",
      "izm\n",
      "python\n",
      "---------------------------------\n",
      "【リストの再表示】\n",
      "python\n",
      "izm\n",
      "sample\n",
      "list\n",
      "reversed\n"
     ]
    }
   ],
   "source": [
    "python_list = []\n",
    "python_list.append('python')\n",
    "python_list.append('izm')\n",
    "python_list.append('sample')\n",
    "python_list.append('list')\n",
    "python_list.append('reversed')\n",
    " \n",
    "print('---------------------------------')\n",
    "print('【そのまま表示】')\n",
    "for value in python_list:\n",
    "    print(value)\n",
    "\n",
    "print('---------------------------------')\n",
    "print('【逆順表示】')\n",
    "for value in reversed(python_list):\n",
    "    print(value)\n",
    "\n",
    "print('---------------------------------')\n",
    "print('【リストの再表示】')\n",
    "for value in python_list:\n",
    "    print(value)"
   ]
  },
  {
   "cell_type": "markdown",
   "id": "2a4e175b",
   "metadata": {},
   "source": [
    "python_list.reverse()はリストを逆順にして書き換える  \n",
    "reversed(python_list)は逆順にしたリストとして認識させるが本体は書き換えられない"
   ]
  },
  {
   "cell_type": "code",
   "execution_count": 8,
   "id": "b03df55c",
   "metadata": {},
   "outputs": [
    {
     "name": "stdout",
     "output_type": "stream",
     "text": [
      "---------------------------------\n",
      "【そのまま表示】\n",
      "python\n",
      "izm\n",
      "sample\n",
      "list\n",
      "reversed\n",
      "---------------------------------\n",
      "【逆順表示】\n",
      "reversed\n",
      "sample\n",
      "python\n",
      "---------------------------------\n",
      "【リストの再表示】\n",
      "python\n",
      "izm\n",
      "sample\n",
      "list\n",
      "reversed\n"
     ]
    }
   ],
   "source": [
    "python_list = []\n",
    "python_list.append('python')\n",
    "python_list.append('izm')\n",
    "python_list.append('sample')\n",
    "python_list.append('list')\n",
    "python_list.append('reversed')\n",
    " \n",
    "print('---------------------------------')\n",
    "print('【そのまま表示】')\n",
    "for value in python_list:\n",
    "    print(value)\n",
    "\n",
    "print('---------------------------------')\n",
    "print('【逆順表示】')\n",
    "for value in python_list[::-2]:\n",
    "    print(value)\n",
    "\n",
    "print('---------------------------------')\n",
    "print('【リストの再表示】')\n",
    "for value in python_list:\n",
    "    print(value)"
   ]
  },
  {
   "cell_type": "markdown",
   "id": "01d72cf2",
   "metadata": {},
   "source": [
    "::-1で後ろから一個ずつ読む  \n",
    "-2にすると後ろ２個ずつ読む  \n",
    "2にすると前から2個ずつ読む"
   ]
  },
  {
   "cell_type": "markdown",
   "id": "b460ca91",
   "metadata": {},
   "source": [
    "# インデックス付きループ"
   ]
  },
  {
   "cell_type": "code",
   "execution_count": 11,
   "id": "4bd0b10d",
   "metadata": {},
   "outputs": [
    {
     "name": "stdout",
     "output_type": "stream",
     "text": [
      "(0, 'python') com\n",
      "(1, '-') com\n",
      "(2, 'izm') com\n",
      "(3, '.') com\n",
      "(4, 'com') com\n"
     ]
    }
   ],
   "source": [
    "test_list = ['python', '-', 'izm', '.', 'com']\n",
    " \n",
    "for idx in enumerate(test_list):\n",
    "    print(idx, val)"
   ]
  },
  {
   "cell_type": "markdown",
   "id": "cbb4210d",
   "metadata": {},
   "source": [
    "enumrateはインデックス値と値の両方を出力可能  \n",
    "その際代入値は二つ必要  \n",
    "代入値が一つの場合タプルが生成される"
   ]
  },
  {
   "cell_type": "code",
   "execution_count": null,
   "id": "bd3ef402",
   "metadata": {},
   "outputs": [],
   "source": []
  }
 ],
 "metadata": {
  "kernelspec": {
   "display_name": "Python 3",
   "language": "python",
   "name": "python3"
  },
  "language_info": {
   "codemirror_mode": {
    "name": "ipython",
    "version": 3
   },
   "file_extension": ".py",
   "mimetype": "text/x-python",
   "name": "python",
   "nbconvert_exporter": "python",
   "pygments_lexer": "ipython3",
   "version": "3.8.8"
  }
 },
 "nbformat": 4,
 "nbformat_minor": 5
}
