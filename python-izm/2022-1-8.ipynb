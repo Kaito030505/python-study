{
 "cells": [
  {
   "cell_type": "markdown",
   "id": "799324ce",
   "metadata": {},
   "source": [
    "# 要素を区切り文字で連結"
   ]
  },
  {
   "cell_type": "code",
   "execution_count": 1,
   "id": "ef046fc1",
   "metadata": {},
   "outputs": [],
   "source": [
    "elem = ['www', 'python-izm', 'com']"
   ]
  },
  {
   "cell_type": "code",
   "execution_count": 2,
   "id": "ee2363ea",
   "metadata": {},
   "outputs": [
    {
     "name": "stdout",
     "output_type": "stream",
     "text": [
      "www.python-izm.com.\n"
     ]
    }
   ],
   "source": [
    "elem = ['www', 'python-izm', 'com']\n",
    " \n",
    "host_name = ''\n",
    "for val in elem:\n",
    "    host_name += val + '.'\n",
    "print(host_name)"
   ]
  },
  {
   "cell_type": "markdown",
   "id": "9bb53bbe",
   "metadata": {},
   "source": [
    "ただ単純にリストの要素の文字列にピリオドを足して繰り返す"
   ]
  },
  {
   "cell_type": "code",
   "execution_count": 3,
   "id": "b749af7a",
   "metadata": {},
   "outputs": [
    {
     "name": "stdout",
     "output_type": "stream",
     "text": [
      "www.python-izm.com\n"
     ]
    }
   ],
   "source": [
    "elem = ['www', 'python-izm', 'com']\n",
    " \n",
    "host_name = ''\n",
    "for val in elem:\n",
    "    if val != 'com':\n",
    "        host_name += val + '.'\n",
    "    else:\n",
    "        host_name += val\n",
    "print(host_name)"
   ]
  },
  {
   "cell_type": "markdown",
   "id": "6c420c83",
   "metadata": {},
   "source": [
    "!=はノットイコール  \n",
    "ノットイコールの時、if文の操作をする。  \n",
    "それ以外ではピリオドを付けない"
   ]
  },
  {
   "cell_type": "code",
   "execution_count": 4,
   "id": "62e02eea",
   "metadata": {},
   "outputs": [
    {
     "name": "stdout",
     "output_type": "stream",
     "text": [
      "www.python-izm.com\n"
     ]
    }
   ],
   "source": [
    "elem = ['www', 'python-izm', 'com']\n",
    " \n",
    "print('.'.join(elem))"
   ]
  },
  {
   "cell_type": "markdown",
   "id": "3275ab8e",
   "metadata": {},
   "source": [
    "‘<区切り文字>’.join(<反復可能なオブジェクト>)   \n",
    "反復可能オブジェクトはリストやタプルなど"
   ]
  },
  {
   "cell_type": "code",
   "execution_count": 6,
   "id": "e3868bc6",
   "metadata": {
    "scrolled": true
   },
   "outputs": [
    {
     "name": "stdout",
     "output_type": "stream",
     "text": [
      "www\n",
      "python-izm\n",
      "com\n",
      "www,python-izm,com\n",
      "1 2 3 4 5 6 7 8 9 0\n",
      "1+2+3\n"
     ]
    }
   ],
   "source": [
    "elem = ['www', 'python-izm', 'com']\n",
    " \n",
    "print('\\n'.join(elem))\n",
    "print(','.join(elem))\n",
    "print(' '.join('1234567890'))\n",
    "\n",
    "print('+'.join(('1', '2', '3')))\n",
    "# print('+'.join((1, 2, 3)))"
   ]
  },
  {
   "cell_type": "markdown",
   "id": "873bc478",
   "metadata": {},
   "source": [
    "joinは文字列以外を含むことはできない"
   ]
  },
  {
   "cell_type": "markdown",
   "id": "d5cdd908",
   "metadata": {},
   "source": [
    "1.逆転したリストを結合  \n",
    "2.逆順、順の二つをリストに入れ込む"
   ]
  },
  {
   "cell_type": "code",
   "execution_count": 8,
   "id": "046e6333",
   "metadata": {},
   "outputs": [
    {
     "name": "stdout",
     "output_type": "stream",
     "text": [
      "com.python-izm.www\n"
     ]
    }
   ],
   "source": [
    "print('.'.join(reversed(elem)))"
   ]
  },
  {
   "cell_type": "code",
   "execution_count": 16,
   "id": "4bd96552",
   "metadata": {},
   "outputs": [
    {
     "data": {
      "text/plain": [
       "list_reverseiterator"
      ]
     },
     "execution_count": 16,
     "metadata": {},
     "output_type": "execute_result"
    }
   ],
   "source": [
    "type(reversed(elem))"
   ]
  },
  {
   "cell_type": "code",
   "execution_count": 17,
   "id": "57ef444d",
   "metadata": {},
   "outputs": [
    {
     "name": "stdout",
     "output_type": "stream",
     "text": [
      "['A', 1, 'B']\n"
     ]
    }
   ],
   "source": [
    "A=['A',1]\n",
    "B=['B']\n",
    "AB=A+B\n",
    "print(AB)"
   ]
  },
  {
   "cell_type": "code",
   "execution_count": 26,
   "id": "5b73011a",
   "metadata": {},
   "outputs": [
    {
     "name": "stdout",
     "output_type": "stream",
     "text": [
      "['www', 'python-izm', 'com']\n",
      "['com', 'python-izm', 'www']\n"
     ]
    }
   ],
   "source": [
    "#fusion=reversed(elem)+elm\n",
    "print(elem)\n",
    "elem.reverse()\n",
    "print(elem)\n",
    "elem.reverse()\n",
    "#fusion=elem.reverse()+elem"
   ]
  },
  {
   "cell_type": "code",
   "execution_count": 31,
   "id": "0e8aaa8d",
   "metadata": {},
   "outputs": [
    {
     "name": "stdout",
     "output_type": "stream",
     "text": [
      "<class 'list_reverseiterator'>\n",
      "['B']\n"
     ]
    }
   ],
   "source": [
    "A=reversed(elem)\n",
    "print(type(A))\n",
    "#B=A+elem\n",
    "print(B)"
   ]
  },
  {
   "cell_type": "code",
   "execution_count": 36,
   "id": "258d1493",
   "metadata": {},
   "outputs": [
    {
     "name": "stdout",
     "output_type": "stream",
     "text": [
      "<class 'NoneType'>\n"
     ]
    }
   ],
   "source": [
    "print(type(elem.reverse()))\n",
    "#B=elem+A"
   ]
  },
  {
   "cell_type": "code",
   "execution_count": 41,
   "id": "05133478",
   "metadata": {},
   "outputs": [
    {
     "name": "stdout",
     "output_type": "stream",
     "text": [
      "com.python-izm.www.com.python-izm.www\n"
     ]
    }
   ],
   "source": [
    "elem_1=elem\n",
    "elem.reverse()\n",
    "elem_fusion=elem_1+elem\n",
    "print('.'.join(elem_fusion))"
   ]
  },
  {
   "cell_type": "code",
   "execution_count": null,
   "id": "123e38c4",
   "metadata": {},
   "outputs": [],
   "source": []
  },
  {
   "cell_type": "code",
   "execution_count": null,
   "id": "87637505",
   "metadata": {},
   "outputs": [],
   "source": []
  }
 ],
 "metadata": {
  "kernelspec": {
   "display_name": "Python 3",
   "language": "python",
   "name": "python3"
  },
  "language_info": {
   "codemirror_mode": {
    "name": "ipython",
    "version": 3
   },
   "file_extension": ".py",
   "mimetype": "text/x-python",
   "name": "python",
   "nbconvert_exporter": "python",
   "pygments_lexer": "ipython3",
   "version": "3.8.8"
  }
 },
 "nbformat": 4,
 "nbformat_minor": 5
}
