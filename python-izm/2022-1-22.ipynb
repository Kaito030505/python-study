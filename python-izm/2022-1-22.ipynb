{
 "cells": [
  {
   "cell_type": "markdown",
   "id": "59b4d632",
   "metadata": {},
   "source": [
    "# 改行コードの取得"
   ]
  },
  {
   "cell_type": "code",
   "execution_count": 1,
   "id": "93eeed87",
   "metadata": {},
   "outputs": [
    {
     "name": "stdout",
     "output_type": "stream",
     "text": [
      "python-izm\r\n",
      "com\n"
     ]
    }
   ],
   "source": [
    "import os\n",
    "\n",
    "test_str = 'python-izm.com'\n",
    "\n",
    "print(test_str.replace('.', os.linesep))"
   ]
  },
  {
   "cell_type": "markdown",
   "id": "dec57fd3",
   "metadata": {},
   "source": [
    "# 環境変数の取得"
   ]
  },
  {
   "cell_type": "code",
   "execution_count": 3,
   "id": "4a98aec8",
   "metadata": {},
   "outputs": [
    {
     "name": "stdout",
     "output_type": "stream",
     "text": [
      "ADSK_3DSMAX_X64_2022\n",
      "ALLUSERSPROFILE\n",
      "APPDATA\n",
      "COMMONPROGRAMFILES\n",
      "COMMONPROGRAMFILES(X86)\n",
      "COMMONPROGRAMW6432\n",
      "COMPUTERNAME\n",
      "COMSPEC\n",
      "CONDA_DEFAULT_ENV\n",
      "CONDA_EXE\n",
      "CONDA_PROMPT_MODIFIER\n",
      "CONDA_PYTHON_EXE\n",
      "CONDA_ROOT\n",
      "CONDA_SHLVL\n",
      "DRIVERDATA\n",
      "FPS_BROWSER_APP_PROFILE_STRING\n",
      "FPS_BROWSER_USER_PROFILE_STRING\n",
      "HOMEDRIVE\n",
      "HOMEPATH\n",
      "LOCALAPPDATA\n",
      "LOGONSERVER\n",
      "NUMBER_OF_PROCESSORS\n",
      "ONEDRIVE\n",
      "ONEDRIVECONSUMER\n",
      "OS\n",
      "PATH\n",
      "PATHEXT\n",
      "PROCESSOR_ARCHITECTURE\n",
      "PROCESSOR_IDENTIFIER\n",
      "PROCESSOR_LEVEL\n",
      "PROCESSOR_REVISION\n",
      "PROGRAMDATA\n",
      "PROGRAMFILES\n",
      "PROGRAMFILES(X86)\n",
      "PROGRAMW6432\n",
      "PROMPT\n",
      "PSMODULEPATH\n",
      "PUBLIC\n",
      "PYTHONPATH\n",
      "SESSIONNAME\n",
      "SYSTEMDRIVE\n",
      "SYSTEMROOT\n",
      "TEMP\n",
      "TMP\n",
      "USERDOMAIN\n",
      "USERDOMAIN_ROAMINGPROFILE\n",
      "USERNAME\n",
      "USERPROFILE\n",
      "VBOX_MSI_INSTALL_PATH\n",
      "WINDIR\n",
      "CONDA_PREFIX\n",
      "JPY_INTERRUPT_EVENT\n",
      "IPY_INTERRUPT_EVENT\n",
      "JPY_PARENT_PID\n",
      "TERM\n",
      "CLICOLOR\n",
      "PAGER\n",
      "GIT_PAGER\n",
      "MPLBACKEND\n",
      "----------------------------------\n",
      "C:\\Windows\n"
     ]
    }
   ],
   "source": [
    "import os\n",
    " \n",
    "for env in os.environ:\n",
    "    print(env)\n",
    "\n",
    "print('----------------------------------')\n",
    "print(os.environ.get('windir'))"
   ]
  },
  {
   "cell_type": "markdown",
   "id": "10b0574c",
   "metadata": {},
   "source": [
    "# 乱数値の取得"
   ]
  },
  {
   "cell_type": "code",
   "execution_count": 4,
   "id": "f6ed5200",
   "metadata": {},
   "outputs": [
    {
     "name": "stdout",
     "output_type": "stream",
     "text": [
      "0.2893860478920778\n",
      "2.8246933399144165\n",
      "23\n",
      "4\n",
      "['sample', 'izm', 'com', 'python', 'random']\n"
     ]
    }
   ],
   "source": [
    "import random\n",
    " \n",
    "print(random.random())\n",
    "print(random.uniform(1,100))\n",
    "print(random.randint(1,100))\n",
    "print(random.choice('1234567890abcdefghij'))\n",
    " \n",
    "sample_list = ['python', 'izm', 'com', 'random', 'sample']\n",
    "random.shuffle(sample_list)\n",
    "print(sample_list)"
   ]
  },
  {
   "cell_type": "markdown",
   "id": "54469942",
   "metadata": {},
   "source": [
    "random.random()  \n",
    "　・0.0～1.0までのfloat値を取得  \n",
    "random.uniform(x,y)  \n",
    "　・x～yまでのfloat値を取得します。  \n",
    "random.randint(x,y)  \n",
    "　・x～yまでのint値を取得します。  \n",
    "random.choice(list)  \n",
    "　・list内の要素から一つを選ぶ。  \n",
    "random.shuffle(array)  \n",
    "　・array内の要素をシャッフルする。  "
   ]
  },
  {
   "cell_type": "code",
   "execution_count": 8,
   "id": "573c0ba0",
   "metadata": {},
   "outputs": [],
   "source": [
    "import zipfile\n",
    "\n",
    "zipFile = zipfile.ZipFile('./compress_1.zip', 'w', zipfile.ZIP_STORED)\n",
    "zipFile.write('./python.txt')\n",
    "zipFile.close()\n",
    "\n",
    "zipFile = zipfile.ZipFile('./compress_2.zip', 'w', zipfile.ZIP_DEFLATED)\n",
    "zipFile.write('./python.txt')\n",
    "zipFile.close()"
   ]
  },
  {
   "cell_type": "markdown",
   "id": "8844b8c1",
   "metadata": {},
   "source": [
    "zipfileモジュールをインストール  \n",
    "ZIP_STOREDはファイルをまとめるための物  \n",
    "ZIP_DEFLATEDはファイルサイズも圧縮する  "
   ]
  },
  {
   "cell_type": "code",
   "execution_count": null,
   "id": "cc3f27be",
   "metadata": {},
   "outputs": [],
   "source": []
  }
 ],
 "metadata": {
  "kernelspec": {
   "display_name": "Python 3",
   "language": "python",
   "name": "python3"
  },
  "language_info": {
   "codemirror_mode": {
    "name": "ipython",
    "version": 3
   },
   "file_extension": ".py",
   "mimetype": "text/x-python",
   "name": "python",
   "nbconvert_exporter": "python",
   "pygments_lexer": "ipython3",
   "version": "3.8.8"
  }
 },
 "nbformat": 4,
 "nbformat_minor": 5
}
