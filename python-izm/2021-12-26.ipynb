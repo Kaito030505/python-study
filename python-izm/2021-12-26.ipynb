{
 "cells": [
  {
   "cell_type": "markdown",
   "id": "ac3bdb5a",
   "metadata": {},
   "source": [
    "# ファイルの読み書き"
   ]
  },
  {
   "cell_type": "code",
   "execution_count": 12,
   "id": "7c072422",
   "metadata": {},
   "outputs": [
    {
     "data": {
      "text/plain": [
       "'C:\\\\Users\\\\USER\\\\Desktop\\\\python-study\\\\python-izm'"
      ]
     },
     "execution_count": 12,
     "metadata": {},
     "output_type": "execute_result"
    }
   ],
   "source": [
    "import os\n",
    "os.getcwd()"
   ]
  },
  {
   "cell_type": "code",
   "execution_count": 13,
   "id": "07e9f313",
   "metadata": {},
   "outputs": [
    {
     "name": "stdout",
     "output_type": "stream",
     "text": [
      "Python縺ｧ隱ｭ縺ｿ霎ｼ縺ｿ\n"
     ]
    }
   ],
   "source": [
    "f = open('read.txt', 'r')\n",
    " \n",
    "for row in f:\n",
    "    print(row)\n",
    "\n",
    "f.close()"
   ]
  },
  {
   "cell_type": "code",
   "execution_count": 14,
   "id": "3c8000f7",
   "metadata": {},
   "outputs": [],
   "source": [
    "fin_sjis = open('read.txt', 'r', encoding='shift_jis')\n",
    "fout_euc = open('euc-jp.txt', 'w', encoding='euc_jp')\n",
    "fout_utf = open('utf-8.txt', 'w', encoding='utf-8')\n",
    " \n",
    "for row in fin_sjis:\n",
    "    fout_euc.write(row)\n",
    "    fout_utf.write(row)\n",
    "\n",
    "fin_sjis.close()\n",
    "fout_euc.close()\n",
    "fout_utf.close()"
   ]
  },
  {
   "cell_type": "markdown",
   "id": "a834987b",
   "metadata": {},
   "source": [
    "# ファイルシステム操作"
   ]
  },
  {
   "cell_type": "code",
   "execution_count": 23,
   "id": "6d001433",
   "metadata": {},
   "outputs": [],
   "source": [
    "filepath='C:/Python32-64'"
   ]
  },
  {
   "cell_type": "code",
   "execution_count": 26,
   "id": "893b68c5",
   "metadata": {},
   "outputs": [
    {
     "name": "stdout",
     "output_type": "stream",
     "text": [
      "指定のファイル、またはディレクトリが存在しています。\n",
      "指定のパスはディレクトリです。\n"
     ]
    }
   ],
   "source": [
    "if os.path.exists(filepath):\n",
    "    print('指定のファイル、またはディレクトリが存在しています。')\n",
    "    if os.path.isfile(filepath):\n",
    "        print('指定のパスはファイルです。')\n",
    "    if os.path.isdir(filepath):\n",
    "        print('指定のパスはディレクトリです。')\n",
    "else:\n",
    "        print('指定のファイルまたはディレクトリが存在していません。')"
   ]
  },
  {
   "cell_type": "code",
   "execution_count": 27,
   "id": "1f6c2841",
   "metadata": {},
   "outputs": [],
   "source": [
    "import shutil\n",
    "\n",
    "def show_dir(path):\n",
    "    print('-----------------')\n",
    "    for dirpath,dirnames,filenames in os.walk(path):\n",
    "        for dirname in dirnames:\n",
    "            print(os.path.join(dirpath,dirname))"
   ]
  },
  {
   "cell_type": "code",
   "execution_count": 33,
   "id": "e213286c",
   "metadata": {},
   "outputs": [
    {
     "name": "stdout",
     "output_type": "stream",
     "text": [
      "-----------------\n",
      "C:/Python32-64/tmp\\mkdir1\n",
      "C:/Python32-64/tmp\\mkdir1\\mkdir2\n",
      "C:/Python32-64/tmp\\mkdir1\\mkdir2\\mkdir3\n",
      "-----------------\n",
      "C:/Python32-64/tmp\\mkdir1\n",
      "C:/Python32-64/tmp\\mkdir1\\mkdir2\n"
     ]
    }
   ],
   "source": [
    "tmpdir='C:/Python32-64/tmp'\n",
    "\n",
    "os.mkdir(tmpdir)\n",
    "os.makedirs('C:/Python32-64/tmp/mkdir1/mkdir2/mkdir3')\n",
    "show_dir(tmpdir)\n",
    "\n",
    "os.rmdir('C:/Python32-64//tmp/mkdir1/mkdir2/mkdir3')\n",
    "show_dir(tmpdir)\n",
    "\n",
    "shutil.rmtree(tmpdir)"
   ]
  },
  {
   "cell_type": "code",
   "execution_count": null,
   "id": "cc48ad8b",
   "metadata": {},
   "outputs": [],
   "source": []
  }
 ],
 "metadata": {
  "kernelspec": {
   "display_name": "Python 3",
   "language": "python",
   "name": "python3"
  },
  "language_info": {
   "codemirror_mode": {
    "name": "ipython",
    "version": 3
   },
   "file_extension": ".py",
   "mimetype": "text/x-python",
   "name": "python",
   "nbconvert_exporter": "python",
   "pygments_lexer": "ipython3",
   "version": "3.8.8"
  }
 },
 "nbformat": 4,
 "nbformat_minor": 5
}
