{
 "cells": [
  {
   "cell_type": "markdown",
   "id": "f8005df2",
   "metadata": {},
   "source": [
    "# 設定ファイル"
   ]
  },
  {
   "cell_type": "code",
   "execution_count": 7,
   "id": "2268313f",
   "metadata": {},
   "outputs": [
    {
     "name": "stdout",
     "output_type": "stream",
     "text": [
      "localhost\n",
      "12345\n",
      "Windows\n",
      "8\n",
      "\n",
      "python-izm\n",
      "0000\n",
      "mail@example.com\n"
     ]
    }
   ],
   "source": [
    "import configparser\n",
    " \n",
    "inifile = configparser.ConfigParser()\n",
    "inifile.read('./config.ini', 'UTF-8')\n",
    "\n",
    "#configparser.ConfigParser().read('./config.ini', 'UTF-8')\n",
    "#上のコードで動かないのはインスタンス化をしていないから\n",
    "\n",
    "print(inifile.get('settings', 'host'))\n",
    "print(inifile.get('settings', 'port'))\n",
    " \n",
    "print(inifile.get('system', 'os'))\n",
    "print(inifile.get('system', 'version'))\n",
    "print(inifile.get('system', 'path'))\n",
    " \n",
    "print(inifile.get('user', 'name'))\n",
    "print(inifile.get('user', 'password'))\n",
    "print(inifile.get('user', 'mail'))"
   ]
  },
  {
   "cell_type": "markdown",
   "id": "a30ac953",
   "metadata": {},
   "source": [
    "1行目でconfigpaserモジュールをインストールする。\n",
    "3行目でconfigpaser.ConfigPaser()をinfileというインスタンスを生成し、infile.readで作業ディレクトリのconfig.iniをUTF-8で読み取る。  \n",
    "それによって、infile.get関数のそれぞれの引数を引き出す  "
   ]
  },
  {
   "cell_type": "raw",
   "id": "9641fe68",
   "metadata": {},
   "source": [
    "# コメントアウトも出来ます\n",
    "[settings]\n",
    "host = localhost\n",
    "port = 12345\n",
    " \n",
    "# 「 = 」前後にスペースがあってもなくても問題なし\n",
    "[system]\n",
    "os=Windows\n",
    "version=8\n",
    "path=\n",
    " \n",
    "# 区切りは「 = 」でも「 : 」可\n",
    "[user]\n",
    "name     : python-izm\n",
    "password : 0000\n",
    "mail     : mail@example.com"
   ]
  },
  {
   "cell_type": "markdown",
   "id": "a7b993c9",
   "metadata": {},
   "source": [
    "設定ファイルの[]に囲まれた部分は読み取りの際の第1インスタンス変数に代入する。  \n",
    "そのあとに細かくなっている部分を第2インスタンス変数に代入する。  "
   ]
  },
  {
   "cell_type": "markdown",
   "id": "5ee26d67",
   "metadata": {},
   "source": [
    "引数の下に引数を組み込む仕組みを理解しようと思い、以下のコードを書いてみたが、この方法ではない模様。  \n",
    "とりあえず形跡を残しておこうと思います。"
   ]
  },
  {
   "cell_type": "raw",
   "id": "804deee1",
   "metadata": {},
   "source": [
    "class trial():\n",
    "    def mathmetics(self,first_1,first_2,second_1,second_2,third_1,third_2):\n",
    "        self.first_1=first_1\n",
    "        self.first_2=first_2\n",
    "        self.second_1=second_2\n",
    "        self.second_2=second_2\n",
    "        self.third_1=third_1\n",
    "        self.third_2=third_2\n",
    "    def chemical(x,y):\n",
    "        if x==first_1:\n",
    "            if y==first_2:\n",
    "                print('成功first')\n",
    "            else:\n",
    "                print('エラー発生')\n",
    "        elif x==second_1:\n",
    "            if y==second_2:\n",
    "                print('成功second')\n",
    "            else:\n",
    "                print('エラー発生')\n",
    "        elif x==third_1:\n",
    "            if y==third_2:\n",
    "                print('成功third')\n",
    "            else:\n",
    "                print('エラー発生')\n",
    "        else:\n",
    "            print('エラー発生')"
   ]
  },
  {
   "cell_type": "raw",
   "id": "403c365f",
   "metadata": {},
   "source": [
    "class trial():\n",
    "    def mathmetics(self,first_1,second_1,third_1):\n",
    "        self.first_1=first_1\n",
    "        self.second_1=second_2\n",
    "        self.third_1=third_1"
   ]
  },
  {
   "cell_type": "raw",
   "id": "41bf2f0f",
   "metadata": {},
   "source": [
    "class trial2(trial):\n",
    "    def mathmetics_2(self,,first_2,second_2,third_2):\n",
    "        "
   ]
  },
  {
   "cell_type": "markdown",
   "id": "396bb328",
   "metadata": {},
   "source": [
    "# リストのソート"
   ]
  },
  {
   "cell_type": "code",
   "execution_count": 14,
   "id": "a94415ac",
   "metadata": {},
   "outputs": [
    {
     "name": "stdout",
     "output_type": "stream",
     "text": [
      "---------------------------------\n",
      "【そのまま表示】\n",
      "100\n",
      "200\n",
      "10\n",
      "800\n",
      "60\n",
      "---------------------------------\n",
      "【ソート表示】\n",
      "10\n",
      "60\n",
      "100\n",
      "200\n",
      "800\n"
     ]
    }
   ],
   "source": [
    "python_list = []\n",
    "python_list.append(100)\n",
    "python_list.append(200)\n",
    "python_list.append(10)\n",
    "python_list.append(800)\n",
    "python_list.append(60)\n",
    " \n",
    "print('---------------------------------')\n",
    "print('【そのまま表示】')\n",
    "for value in python_list:\n",
    "    print(value)\n",
    "\n",
    "python_list.sort()\n",
    " \n",
    "print('---------------------------------')\n",
    "print('【ソート表示】')\n",
    "for value in python_list:\n",
    "    print(value)"
   ]
  },
  {
   "cell_type": "code",
   "execution_count": 17,
   "id": "ea83c838",
   "metadata": {},
   "outputs": [
    {
     "name": "stdout",
     "output_type": "stream",
     "text": [
      "---------------------------------\n",
      "【そのまま表示】\n",
      "100\n",
      "200\n",
      "10\n",
      "800\n",
      "60\n",
      "---------------------------------\n",
      "【ソート表示】\n",
      "10\n",
      "60\n",
      "100\n",
      "200\n",
      "800\n",
      "[10, 60, 100, 200, 800]\n",
      "---------------------------------\n",
      "【リストの再表示】\n",
      "100\n",
      "200\n",
      "10\n",
      "800\n",
      "60\n"
     ]
    }
   ],
   "source": [
    "python_list = []\n",
    "python_list.append(100)\n",
    "python_list.append(200)\n",
    "python_list.append(10)\n",
    "python_list.append(800)\n",
    "python_list.append(60)\n",
    " \n",
    "print('---------------------------------')\n",
    "print('【そのまま表示】')\n",
    "for value in python_list:\n",
    "    print(value)\n",
    " \n",
    "print('---------------------------------')\n",
    "print('【ソート表示】')\n",
    "for value in sorted(python_list):\n",
    "    print(value)\n",
    "    \n",
    "trial=sorted(python_list)\n",
    "\n",
    "print(trial)\n",
    "print('---------------------------------')\n",
    "print('【リストの再表示】')\n",
    "for value in python_list:\n",
    "    print(value)"
   ]
  },
  {
   "cell_type": "markdown",
   "id": "980507da",
   "metadata": {},
   "source": [
    "1個目だとリストがソートされた状態で保存されるのに対して、2個目だとソートした結果は得られるもののリストそのものは変化しない。  \n",
    "ソートしたものを新しいリストとして保存することも可能"
   ]
  },
  {
   "cell_type": "code",
   "execution_count": null,
   "id": "e256669b",
   "metadata": {},
   "outputs": [],
   "source": []
  }
 ],
 "metadata": {
  "kernelspec": {
   "display_name": "Python 3",
   "language": "python",
   "name": "python3"
  },
  "language_info": {
   "codemirror_mode": {
    "name": "ipython",
    "version": 3
   },
   "file_extension": ".py",
   "mimetype": "text/x-python",
   "name": "python",
   "nbconvert_exporter": "python",
   "pygments_lexer": "ipython3",
   "version": "3.8.8"
  }
 },
 "nbformat": 4,
 "nbformat_minor": 5
}
