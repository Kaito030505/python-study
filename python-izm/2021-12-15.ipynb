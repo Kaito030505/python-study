{
 "cells": [
  {
   "cell_type": "code",
   "execution_count": 1,
   "id": "5816b00a",
   "metadata": {},
   "outputs": [],
   "source": [
    "class Country:\n",
    "    \n",
    "    def __init__(self,country_name):\n",
    "        self.country_name=country_name #countryにcountry_nameという変数を子クラスからもアクセスできる形で定義する"
   ]
  },
  {
   "cell_type": "code",
   "execution_count": 2,
   "id": "b9b00c7e",
   "metadata": {},
   "outputs": [],
   "source": [
    "class City(Country):\n",
    "    def __init__(self,country_name,city_name):\n",
    "        super().__init__(country_name)#この子クラスにおいてのみ、country_name変数を親クラスの上書きができるようになる\n",
    "        self.city_name=city_name"
   ]
  },
  {
   "cell_type": "code",
   "execution_count": 3,
   "id": "70b12eca",
   "metadata": {},
   "outputs": [],
   "source": [
    "classes=[]\n",
    "classes.append(City('Japan','Tokyo'))\n",
    "classes.append(City('USA','Washington,D.C')) #classesにcityのcountry_nameという属性を持つ'USA'を追加する"
   ]
  },
  {
   "cell_type": "code",
   "execution_count": 18,
   "id": "1d2dd11a",
   "metadata": {},
   "outputs": [
    {
     "name": "stdout",
     "output_type": "stream",
     "text": [
      "===Class===\n",
      "country_name -->Japan\n",
      "city_name -->Tokyo\n",
      "===Class===\n",
      "country_name -->USA\n",
      "city_name -->Washington,D.C\n"
     ]
    }
   ],
   "source": [
    "for test_cls in classes:\n",
    "    print('===Class===')\n",
    "    print(('country_name -->')+test_cls.country_name) #1周目ではclassesの中のcountry_name属性を持つ1番目のリストを呼び出す\n",
    "    print(('city_name -->')+test_cls.city_name)"
   ]
  },
  {
   "cell_type": "code",
   "execution_count": 32,
   "id": "71cde60a",
   "metadata": {},
   "outputs": [
    {
     "name": "stdout",
     "output_type": "stream",
     "text": [
      "円の半径: 10\n",
      "円の面積: 314.0\n"
     ]
    }
   ],
   "source": [
    "class Circle:\n",
    "  def __init__(self,radius): #initはアンダーバーの数が違うと動かない\n",
    "        self.radius=radius #radiusという変数をCircle外でも使えるようにする\n",
    "  def area(self):\n",
    "    return radius * radius * 3.14\n",
    "    \n",
    "radius=10 \n",
    "#紛らわしいがこれはただの変数に10という数字をセットしただけでCercle内のradiusとは関係ない\n",
    "\n",
    "circle = Circle(radius) \n",
    "\n",
    "print(\"円の半径:\", radius)\n",
    "print(\"円の面積:\", circle.area())\n",
    "\n",
    "#https://techacademy.jp/magazine/23289"
   ]
  },
  {
   "cell_type": "code",
   "execution_count": null,
   "id": "97ce722c",
   "metadata": {},
   "outputs": [],
   "source": []
  }
 ],
 "metadata": {
  "kernelspec": {
   "display_name": "Python 3",
   "language": "python",
   "name": "python3"
  },
  "language_info": {
   "codemirror_mode": {
    "name": "ipython",
    "version": 3
   },
   "file_extension": ".py",
   "mimetype": "text/x-python",
   "name": "python",
   "nbconvert_exporter": "python",
   "pygments_lexer": "ipython3",
   "version": "3.8.8"
  }
 },
 "nbformat": 4,
 "nbformat_minor": 5
}
