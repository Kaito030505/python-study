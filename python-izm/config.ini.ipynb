{
 "cells": [
  {
   "cell_type": "code",
   "execution_count": 1,
   "id": "2960b392",
   "metadata": {},
   "outputs": [
    {
     "ename": "SyntaxError",
     "evalue": "invalid syntax (<ipython-input-1-7c65844a4d30>, line 10)",
     "output_type": "error",
     "traceback": [
      "\u001b[1;36m  File \u001b[1;32m\"<ipython-input-1-7c65844a4d30>\"\u001b[1;36m, line \u001b[1;32m10\u001b[0m\n\u001b[1;33m    path=\u001b[0m\n\u001b[1;37m         ^\u001b[0m\n\u001b[1;31mSyntaxError\u001b[0m\u001b[1;31m:\u001b[0m invalid syntax\n"
     ]
    }
   ],
   "source": [
    "# コメントアウトも出来ます\n",
    "[settings]\n",
    "host = localhost\n",
    "port = 12345\n",
    " \n",
    "# 「 = 」前後にスペースがあってもなくても問題なし\n",
    "[system]\n",
    "os=Windows\n",
    "version=8\n",
    "path=\n",
    " \n",
    "# 区切りは「 = 」でも「 : 」可\n",
    "[user]\n",
    "name     : python-izm\n",
    "password : 0000\n",
    "mail     : mail@example.com"
   ]
  },
  {
   "cell_type": "markdown",
   "id": "8220e850",
   "metadata": {},
   "source": [
    "ここではconfigpaserモジュールが設定を読み取る前提の書き方をしている"
   ]
  },
  {
   "cell_type": "code",
   "execution_count": null,
   "id": "ec5e0c30",
   "metadata": {},
   "outputs": [],
   "source": []
  }
 ],
 "metadata": {
  "kernelspec": {
   "display_name": "Python 3",
   "language": "python",
   "name": "python3"
  },
  "language_info": {
   "codemirror_mode": {
    "name": "ipython",
    "version": 3
   },
   "file_extension": ".py",
   "mimetype": "text/x-python",
   "name": "python",
   "nbconvert_exporter": "python",
   "pygments_lexer": "ipython3",
   "version": "3.8.8"
  }
 },
 "nbformat": 4,
 "nbformat_minor": 5
}
