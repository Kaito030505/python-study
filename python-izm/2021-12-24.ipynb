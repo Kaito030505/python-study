{
 "cells": [
  {
   "cell_type": "markdown",
   "id": "b26dcd04",
   "metadata": {},
   "source": [
    "# モジュールのパッケージ化"
   ]
  },
  {
   "cell_type": "code",
   "execution_count": 1,
   "id": "fe0e9da7",
   "metadata": {},
   "outputs": [
    {
     "name": "stdout",
     "output_type": "stream",
     "text": [
      "2\n"
     ]
    }
   ],
   "source": [
    "import sys\n",
    "\n",
    "sys.path.append('C:\\Python32-64')\n",
    "\n",
    "import com.pythonizm.calc\n",
    "print(com.pythonizm.calc.plus_value(1,1))"
   ]
  },
  {
   "cell_type": "markdown",
   "id": "cf5d2ad7",
   "metadata": {},
   "source": [
    "# lambda式"
   ]
  },
  {
   "cell_type": "code",
   "execution_count": 2,
   "id": "874d0c65",
   "metadata": {},
   "outputs": [],
   "source": [
    "def plus_value(num_1,num_2):\n",
    "    return num_1+num_2"
   ]
  },
  {
   "cell_type": "code",
   "execution_count": 3,
   "id": "50cca699",
   "metadata": {},
   "outputs": [
    {
     "name": "stdout",
     "output_type": "stream",
     "text": [
      "110\n"
     ]
    }
   ],
   "source": [
    "print(plus_value(10,100))"
   ]
  },
  {
   "cell_type": "code",
   "execution_count": 7,
   "id": "63cbeb80",
   "metadata": {},
   "outputs": [
    {
     "name": "stdout",
     "output_type": "stream",
     "text": [
      "110\n"
     ]
    }
   ],
   "source": [
    "func=lambda num_1,num_2: num_1+num_2\n",
    "print(func(10,100))"
   ]
  },
  {
   "cell_type": "markdown",
   "id": "eb0b25d2",
   "metadata": {},
   "source": [
    "- 匿名関数というが、funcという名前があるのでは？"
   ]
  },
  {
   "cell_type": "markdown",
   "id": "c7e16453",
   "metadata": {},
   "source": [
    "# ジェネレータ"
   ]
  },
  {
   "cell_type": "code",
   "execution_count": 10,
   "id": "e4a27ef3",
   "metadata": {},
   "outputs": [
    {
     "name": "stdout",
     "output_type": "stream",
     "text": [
      "おはよう\n",
      "こんにちは\n",
      "こんばんは\n"
     ]
    }
   ],
   "source": [
    "def func_sample():\n",
    "    print('おはよう')\n",
    "    print('こんにちは')\n",
    "    print('こんばんは')\n",
    " \n",
    "func_sample()"
   ]
  },
  {
   "cell_type": "code",
   "execution_count": 19,
   "id": "b22c84aa",
   "metadata": {},
   "outputs": [
    {
     "name": "stdout",
     "output_type": "stream",
     "text": [
      "おはよう\n",
      "Hello\n",
      "こんにちは\n",
      "Hello\n",
      "こんばんは\n",
      "Hello\n"
     ]
    }
   ],
   "source": [
    "def func_sample2():\n",
    "    yield('おはよう')\n",
    "    yield('こんにちは')\n",
    "    yield('こんばんは')\n",
    "for x in func_sample2():\n",
    "    print(x)\n",
    "    print('Hello')"
   ]
  },
  {
   "cell_type": "markdown",
   "id": "345031b6",
   "metadata": {},
   "source": [
    "'''  \n",
    "def func_sample():  \n",
    "    print('おはよう')  \n",
    "    print('こんにちは')  \n",
    "    print('こんばんは')  \n",
    "for x in func_sample2():  \n",
    "    print(x)  \n",
    "'''  \n",
    "- printは繰り返し使うことができない\n",
    "- Helloが間に挟まれているので一個づつ代入されている。\n",
    "- ジェネレータは繰り返しの対象にリストを用いない"
   ]
  },
  {
   "cell_type": "code",
   "execution_count": 18,
   "id": "6ad12bbd",
   "metadata": {},
   "outputs": [
    {
     "name": "stdout",
     "output_type": "stream",
     "text": [
      "おはよう\n",
      "こんにちは\n",
      "こんばんは\n"
     ]
    }
   ],
   "source": [
    "f=func_sample2()\n",
    "for x in range(0,3):\n",
    "    print(next(f))"
   ]
  },
  {
   "cell_type": "code",
   "execution_count": 28,
   "id": "45cd8052",
   "metadata": {},
   "outputs": [
    {
     "name": "stdout",
     "output_type": "stream",
     "text": [
      "<generator object <genexpr> at 0x0000021E4A585040>\n",
      "お\n",
      "Hello\n",
      "よう こんにち\n",
      "Hello\n",
      " こんばん\n",
      "Hello\n",
      "\n",
      "Hello\n"
     ]
    }
   ],
   "source": [
    "gen_sample = (i for i in 'おはよう こんにちは こんばんは'.split('は'))\n",
    " \n",
    "print(gen_sample)\n",
    "for i in gen_sample:\n",
    "    print(i)\n",
    "    print('Hello')"
   ]
  },
  {
   "cell_type": "code",
   "execution_count": 26,
   "id": "58a86dec",
   "metadata": {},
   "outputs": [
    {
     "name": "stdout",
     "output_type": "stream",
     "text": [
      "<generator object <genexpr> at 0x0000021E4A6325F0>\n",
      "お\n",
      "Hello\n",
      "は\n",
      "Hello\n",
      "よ\n",
      "Hello\n",
      "う\n",
      "Hello\n",
      " \n",
      "Hello\n",
      "こ\n",
      "Hello\n",
      "ん\n",
      "Hello\n",
      "に\n",
      "Hello\n",
      "ち\n",
      "Hello\n",
      "は\n",
      "Hello\n",
      " \n",
      "Hello\n",
      "こ\n",
      "Hello\n",
      "ん\n",
      "Hello\n",
      "ば\n",
      "Hello\n",
      "ん\n",
      "Hello\n",
      "は\n",
      "Hello\n"
     ]
    }
   ],
   "source": [
    "gen_sample = (i for i in 'おはよう こんにちは こんばんは')#.split())\n",
    " \n",
    "print(gen_sample)\n",
    "for i in gen_sample:\n",
    "    print(i)\n",
    "    print('Hello')"
   ]
  },
  {
   "cell_type": "markdown",
   "id": "b1b6ed15",
   "metadata": {},
   "source": [
    "- .split()は空白で文字列を区切るという指示\n",
    "- かっこの中の文字で元の文字列を分解する"
   ]
  },
  {
   "cell_type": "code",
   "execution_count": null,
   "id": "e6fd6019",
   "metadata": {},
   "outputs": [],
   "source": []
  }
 ],
 "metadata": {
  "kernelspec": {
   "display_name": "Python 3",
   "language": "python",
   "name": "python3"
  },
  "language_info": {
   "codemirror_mode": {
    "name": "ipython",
    "version": 3
   },
   "file_extension": ".py",
   "mimetype": "text/x-python",
   "name": "python",
   "nbconvert_exporter": "python",
   "pygments_lexer": "ipython3",
   "version": "3.8.8"
  }
 },
 "nbformat": 4,
 "nbformat_minor": 5
}
