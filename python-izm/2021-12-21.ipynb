{
 "cells": [
  {
   "cell_type": "markdown",
   "id": "18f28216",
   "metadata": {},
   "source": [
    "# インスタンスメソッド"
   ]
  },
  {
   "cell_type": "code",
   "execution_count": 1,
   "id": "68d830f3",
   "metadata": {},
   "outputs": [
    {
     "name": "stdout",
     "output_type": "stream",
     "text": [
      "red\n",
      "cross\n"
     ]
    }
   ],
   "source": [
    "class bicycle:\n",
    "    def __init__(self,color,kind):\n",
    "        self.color=color\n",
    "        self.kind=kind\n",
    "        \n",
    "my_bicycle=bicycle('red','cross')\n",
    "print(my_bicycle.color)\n",
    "print(my_bicycle.kind)"
   ]
  },
  {
   "cell_type": "markdown",
   "id": "358d6e77",
   "metadata": {},
   "source": [
    "# クラスメソッド"
   ]
  },
  {
   "cell_type": "code",
   "execution_count": 2,
   "id": "1a63c6a2",
   "metadata": {},
   "outputs": [],
   "source": [
    "import datetime\n",
    "class test_class:\n",
    "    def __init__(self,year,month,day):\n",
    "        self.year=year\n",
    "        self.month=month\n",
    "        self.day=day\n",
    "    @classmethod\n",
    "    def sample_classmethod(cls,date_diff=0):\n",
    "        today=datetime.date.today()\n",
    "        d=today+datetime.timedelta(days=date_diff)\n",
    "        return cls(d.year,d.month,d.day)"
   ]
  },
  {
   "cell_type": "code",
   "execution_count": 4,
   "id": "563de149",
   "metadata": {},
   "outputs": [
    {
     "name": "stdout",
     "output_type": "stream",
     "text": [
      "2021 12 12\n"
     ]
    }
   ],
   "source": [
    "test_class_2 = test_class.sample_classmethod(-10)\n",
    "print(test_class_2.year, test_class_2.month, test_class_2.day)"
   ]
  },
  {
   "cell_type": "code",
   "execution_count": 5,
   "id": "5556522d",
   "metadata": {},
   "outputs": [
    {
     "name": "stdout",
     "output_type": "stream",
     "text": [
      "2000 1 1\n"
     ]
    }
   ],
   "source": [
    "test_class_3 = test_class(2000, 1, 1)\n",
    "print(test_class_3.year, test_class_3.month, test_class_3.day)"
   ]
  },
  {
   "cell_type": "markdown",
   "id": "e9a9dca6",
   "metadata": {},
   "source": [
    "- インスタンス化するのはclassの中にobjectを生成してそのobjectにそれぞれ属性のある変数を与える。  \n",
    "- インスタンス化しないのは同じようにobjectは生成するものの、クラスの中の関数の中のとある関数の中に入れる変数を持っているobjectに過ぎない"
   ]
  },
  {
   "cell_type": "markdown",
   "id": "92b34364",
   "metadata": {},
   "source": [
    "# スタティックメソッド"
   ]
  },
  {
   "cell_type": "code",
   "execution_count": 8,
   "id": "64864bbc",
   "metadata": {},
   "outputs": [
    {
     "name": "stdout",
     "output_type": "stream",
     "text": [
      "110\n",
      "1100\n"
     ]
    }
   ],
   "source": [
    "class test_class2:\n",
    "    @staticmethod\n",
    "    def sample_staticmethod(x,y):\n",
    "        return x+y\n",
    "print(test_class2.sample_staticmethod(10, 100))\n",
    "test_class = test_class2()\n",
    "print(test_class2.sample_staticmethod(100, 1000))"
   ]
  },
  {
   "cell_type": "markdown",
   "id": "07a2bde4",
   "metadata": {},
   "source": [
    "- どちらでも呼び出せる"
   ]
  },
  {
   "cell_type": "code",
   "execution_count": 24,
   "id": "eb10c664",
   "metadata": {},
   "outputs": [
    {
     "name": "stdout",
     "output_type": "stream",
     "text": [
      "3\n"
     ]
    }
   ],
   "source": [
    "class try1:\n",
    "    def __init__(self,a,b,c):\n",
    "        self.a=a\n",
    "        self.b=b\n",
    "        self.c=c\n",
    "        \n",
    "sample1=try1(3,4,5)\n",
    "sample2=try1(5,6,7)\n",
    "sample3=try1(8,9,10)\n",
    "\n",
    "print(sample1.a)\n",
    "#print(sample1+sample2+sample3)"
   ]
  },
  {
   "cell_type": "code",
   "execution_count": null,
   "id": "f2dc1cf0",
   "metadata": {},
   "outputs": [],
   "source": []
  }
 ],
 "metadata": {
  "kernelspec": {
   "display_name": "Python 3",
   "language": "python",
   "name": "python3"
  },
  "language_info": {
   "codemirror_mode": {
    "name": "ipython",
    "version": 3
   },
   "file_extension": ".py",
   "mimetype": "text/x-python",
   "name": "python",
   "nbconvert_exporter": "python",
   "pygments_lexer": "ipython3",
   "version": "3.8.8"
  }
 },
 "nbformat": 4,
 "nbformat_minor": 5
}
