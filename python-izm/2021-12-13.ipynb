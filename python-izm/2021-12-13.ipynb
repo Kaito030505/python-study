{
 "cells": [
  {
   "cell_type": "code",
   "execution_count": 19,
   "id": "8abc5f6d",
   "metadata": {},
   "outputs": [],
   "source": [
    "\n",
    "class TestClass:\n",
    "    \n",
    "    def __init__(self,code,name):\n",
    "        self.code=code\n",
    "        self.name=name\n"
   ]
  },
  {
   "cell_type": "code",
   "execution_count": 20,
   "id": "6f08e769",
   "metadata": {
    "scrolled": true
   },
   "outputs": [
    {
     "name": "stdout",
     "output_type": "stream",
     "text": [
      "===Class===\n",
      "code-->1\n",
      "code-->テスト１\n",
      "===Class===\n",
      "code-->2\n",
      "code-->テスト２\n"
     ]
    }
   ],
   "source": [
    "classes=[]\n",
    "classes.append(TestClass(1,'テスト１'))\n",
    "classes.append(TestClass(2,'テスト２'))\n",
    "\n",
    "for test_cls in classes:\n",
    "    print('===Class===')\n",
    "    print('code-->'+str(test_cls.code))\n",
    "    print('code-->'+test_cls.name)\n"
   ]
  },
  {
   "cell_type": "code",
   "execution_count": 29,
   "id": "4c1fb19f",
   "metadata": {},
   "outputs": [],
   "source": [
    "class Test:\n",
    "    \n",
    "    def __init__(self,me,you):\n",
    "        \n",
    "         self.myname=me\n",
    "         self.yourname=you\n",
    "    def conversation(self):\n",
    "        print('Hello my name is %d. What is your name.'%(myname))\n",
    "        print('My name is %d.'%(yourname))"
   ]
  },
  {
   "cell_type": "code",
   "execution_count": 30,
   "id": "d1d5fda1",
   "metadata": {},
   "outputs": [
    {
     "ename": "TypeError",
     "evalue": "__init__() missing 1 required positional argument: 'you'",
     "output_type": "error",
     "traceback": [
      "\u001b[1;31m---------------------------------------------------------------------------\u001b[0m",
      "\u001b[1;31mTypeError\u001b[0m                                 Traceback (most recent call last)",
      "\u001b[1;32m<ipython-input-30-7f4c8d508543>\u001b[0m in \u001b[0;36m<module>\u001b[1;34m\u001b[0m\n\u001b[1;32m----> 1\u001b[1;33m \u001b[0mPeter\u001b[0m\u001b[1;33m=\u001b[0m\u001b[0mTest\u001b[0m\u001b[1;33m(\u001b[0m\u001b[1;34m'Peter'\u001b[0m\u001b[1;33m)\u001b[0m\u001b[1;33m\u001b[0m\u001b[1;33m\u001b[0m\u001b[0m\n\u001b[0m",
      "\u001b[1;31mTypeError\u001b[0m: __init__() missing 1 required positional argument: 'you'"
     ]
    }
   ],
   "source": [
    "Peter=Test('Peter')"
   ]
  },
  {
   "cell_type": "code",
   "execution_count": 24,
   "id": "67a8e626",
   "metadata": {},
   "outputs": [
    {
     "ename": "NameError",
     "evalue": "name 'Peter' is not defined",
     "output_type": "error",
     "traceback": [
      "\u001b[1;31m---------------------------------------------------------------------------\u001b[0m",
      "\u001b[1;31mNameError\u001b[0m                                 Traceback (most recent call last)",
      "\u001b[1;32m<ipython-input-24-dd3dca224794>\u001b[0m in \u001b[0;36m<module>\u001b[1;34m\u001b[0m\n\u001b[1;32m----> 1\u001b[1;33m \u001b[0mPeter\u001b[0m\u001b[1;33m.\u001b[0m\u001b[0mconversation\u001b[0m\u001b[1;33m(\u001b[0m\u001b[0mself\u001b[0m\u001b[1;33m,\u001b[0m\u001b[1;34m'John'\u001b[0m\u001b[1;33m)\u001b[0m\u001b[1;33m\u001b[0m\u001b[1;33m\u001b[0m\u001b[0m\n\u001b[0m",
      "\u001b[1;31mNameError\u001b[0m: name 'Peter' is not defined"
     ]
    }
   ],
   "source": [
    "Peter.conversation(self,'John')"
   ]
  },
  {
   "cell_type": "code",
   "execution_count": null,
   "id": "e25cc281",
   "metadata": {},
   "outputs": [],
   "source": []
  }
 ],
 "metadata": {
  "kernelspec": {
   "display_name": "Python 3",
   "language": "python",
   "name": "python3"
  },
  "language_info": {
   "codemirror_mode": {
    "name": "ipython",
    "version": 3
   },
   "file_extension": ".py",
   "mimetype": "text/x-python",
   "name": "python",
   "nbconvert_exporter": "python",
   "pygments_lexer": "ipython3",
   "version": "3.8.8"
  }
 },
 "nbformat": 4,
 "nbformat_minor": 5
}
