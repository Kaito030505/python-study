{
 "cells": [
  {
   "cell_type": "markdown",
   "id": "d7bc9b3a",
   "metadata": {},
   "source": [
    "# 内包表記"
   ]
  },
  {
   "cell_type": "markdown",
   "id": "a3b248df",
   "metadata": {},
   "source": [
    "## list 内包表記"
   ]
  },
  {
   "cell_type": "code",
   "execution_count": 2,
   "id": "3cd609e9",
   "metadata": {},
   "outputs": [
    {
     "name": "stdout",
     "output_type": "stream",
     "text": [
      "[0, 1, 2, 3, 4, 5, 6, 7, 8, 9]\n"
     ]
    }
   ],
   "source": [
    "comp_list = [i for i in range(10)]\n",
    "print(comp_list)"
   ]
  },
  {
   "cell_type": "code",
   "execution_count": 4,
   "id": "c0d8d9eb",
   "metadata": {},
   "outputs": [
    {
     "name": "stdout",
     "output_type": "stream",
     "text": [
      "['0', '1', '4', '9', '16', '25', '36', '49', '64', '81']\n"
     ]
    }
   ],
   "source": [
    "comp_list = [str(i * i) for i in range(10)]\n",
    " \n",
    "print(comp_list)"
   ]
  },
  {
   "cell_type": "markdown",
   "id": "b66d2c44",
   "metadata": {},
   "source": [
    "リストを作る際、内部に処理を内包することでコードが短くなる。"
   ]
  },
  {
   "cell_type": "markdown",
   "id": "d4ee8315",
   "metadata": {},
   "source": [
    "## dictionary 内包表記"
   ]
  },
  {
   "cell_type": "code",
   "execution_count": 5,
   "id": "b78f5e30",
   "metadata": {},
   "outputs": [
    {
     "name": "stdout",
     "output_type": "stream",
     "text": [
      "{'0': 0, '1': 1, '2': 4, '3': 9, '4': 16, '5': 25, '6': 36, '7': 49, '8': 64, '9': 81}\n"
     ]
    }
   ],
   "source": [
    "comp_dict = {str(i): i * i for i in range(10)}\n",
    " \n",
    "print(comp_dict)"
   ]
  },
  {
   "cell_type": "markdown",
   "id": "b1825d6f",
   "metadata": {},
   "source": [
    "## セット内包表記"
   ]
  },
  {
   "cell_type": "code",
   "execution_count": 7,
   "id": "f640d1f5",
   "metadata": {},
   "outputs": [
    {
     "name": "stdout",
     "output_type": "stream",
     "text": [
      "{'49', '4', '81', '36', '64', '9', '0', '1', '16', '25'}\n"
     ]
    }
   ],
   "source": [
    "comp_set = {str(i * i) for i in range(10)}\n",
    "print(comp_set)"
   ]
  },
  {
   "cell_type": "markdown",
   "id": "ccfa214c",
   "metadata": {},
   "source": [
    "## forのネスト"
   ]
  },
  {
   "cell_type": "code",
   "execution_count": 8,
   "id": "7ae7f409",
   "metadata": {},
   "outputs": [
    {
     "name": "stdout",
     "output_type": "stream",
     "text": [
      "[1, 2, 3, 4, 5, 6, 7, 8, 9, 2, 4, 6, 8, 10, 12, 14, 16, 18, 3, 6, 9, 12, 15, 18, 21, 24, 27, 4, 8, 12, 16, 20, 24, 28, 32, 36, 5, 10, 15, 20, 25, 30, 35, 40, 45, 6, 12, 18, 24, 30, 36, 42, 48, 54, 7, 14, 21, 28, 35, 42, 49, 56, 63, 8, 16, 24, 32, 40, 48, 56, 64, 72, 9, 18, 27, 36, 45, 54, 63, 72, 81]\n"
     ]
    }
   ],
   "source": [
    "comp_list = [i * ii for i in range(1, 10) for ii in range(1, 10)]\n",
    " \n",
    "print(comp_list)"
   ]
  },
  {
   "cell_type": "code",
   "execution_count": 10,
   "id": "5838c1b3",
   "metadata": {},
   "outputs": [
    {
     "name": "stdout",
     "output_type": "stream",
     "text": [
      "[1, 2, 3, 4, 5, 6, 7, 8, 9, 2, 4, 6, 8, 10, 12, 14, 16, 18, 3, 6, 9, 12, 15, 18, 21, 24, 27, 4, 8, 12, 16, 20, 24, 28, 32, 36, 5, 10, 15, 20, 25, 30, 35, 40, 45, 6, 12, 18, 24, 30, 36, 42, 48, 54, 7, 14, 21, 28, 35, 42, 49, 56, 63, 8, 16, 24, 32, 40, 48, 56, 64, 72, 9, 18, 27, 36, 45, 54, 63, 72, 81]\n"
     ]
    }
   ],
   "source": [
    "comp_list = []\n",
    "for i in range(1, 10):\n",
    "    for ii in range(1, 10):\n",
    "        comp_list.append(i * ii)\n",
    "\n",
    "print(comp_list)"
   ]
  },
  {
   "cell_type": "markdown",
   "id": "3555d6a5",
   "metadata": {},
   "source": [
    "一個目のfor文の内部に二個目のfor文が組み込目れているので処理の順番に気を付ける。  \n",
    "\n",
    "まず、一個目のforのiに1を入れ、二個目に1,2,3,4,5,...を代入する。  \n",
    "次に、一個目のforのiに1を入れ、二個目に1,2,3,4,5,...を代入する。  \n",
    "...  \n",
    "となる。"
   ]
  },
  {
   "cell_type": "markdown",
   "id": "32cdfed5",
   "metadata": {},
   "source": [
    "## ifとの併用"
   ]
  },
  {
   "cell_type": "code",
   "execution_count": 11,
   "id": "28348549",
   "metadata": {},
   "outputs": [
    {
     "name": "stdout",
     "output_type": "stream",
     "text": [
      "[1, 3, 5, 7, 9]\n"
     ]
    }
   ],
   "source": [
    "comp_list = [i for i in range(10) if i % 2 == 1]\n",
    " \n",
    "print(comp_list)"
   ]
  },
  {
   "cell_type": "markdown",
   "id": "e4d49253",
   "metadata": {},
   "source": [
    "## タプル内包表記"
   ]
  },
  {
   "cell_type": "code",
   "execution_count": 12,
   "id": "8f0c1729",
   "metadata": {},
   "outputs": [
    {
     "name": "stdout",
     "output_type": "stream",
     "text": [
      "<generator object <genexpr> at 0x0000026BDA472B30>\n"
     ]
    }
   ],
   "source": [
    "gen = (i for i in range(10))\n",
    " \n",
    "print(gen)"
   ]
  },
  {
   "cell_type": "markdown",
   "id": "165d8488",
   "metadata": {},
   "source": [
    "タプル内包表記は存在しない"
   ]
  },
  {
   "cell_type": "markdown",
   "id": "c4cc9fa6",
   "metadata": {},
   "source": [
    "# isinstance"
   ]
  },
  {
   "cell_type": "code",
   "execution_count": 13,
   "id": "d9989a1f",
   "metadata": {},
   "outputs": [
    {
     "name": "stdout",
     "output_type": "stream",
     "text": [
      "-- string --\n",
      "python\n",
      "-- string --\n",
      "izm\n",
      "++++ tuple ++++\n",
      "tuple\n",
      "instance\n",
      "++++ list ++++\n",
      "list\n",
      "instance\n",
      "++++ dict ++++\n",
      "dict\n",
      "instance\n",
      "++++ TestClass ++++\n",
      "class\n"
     ]
    }
   ],
   "source": [
    "class TestClass:\n",
    " \n",
    "    def __init__(self, title):\n",
    "        self.title = title\n",
    " \n",
    " \n",
    "tuple_instance = ('tuple', 'instance')\n",
    "list_instance  = ['list', 'instance']\n",
    "dict_instance  = {'1':'dict', '2':'instance'}\n",
    "class_instance = TestClass('class')\n",
    " \n",
    "python_list = []\n",
    "python_list.append('python')\n",
    "python_list.append('izm')\n",
    "python_list.append(tuple_instance)\n",
    "python_list.append(list_instance)\n",
    "python_list.append(dict_instance)\n",
    "python_list.append(class_instance)\n",
    " \n",
    "for parent in python_list:\n",
    "    if isinstance(parent, tuple):\n",
    "        print('++++ tuple ++++')\n",
    "        for child in parent:\n",
    "            print(child)\n",
    " \n",
    "    elif isinstance(parent, list):\n",
    "        print('++++ list ++++')\n",
    "        for child in parent:\n",
    "            print(child)\n",
    " \n",
    "    elif isinstance(parent, dict):\n",
    "        print('++++ dict ++++')\n",
    "        for child in parent.keys():\n",
    "            print(parent[child])\n",
    "     \n",
    "    elif isinstance(parent, TestClass):\n",
    "        print('++++ TestClass ++++')\n",
    "        print(parent.title)\n",
    " \n",
    "    else:\n",
    "        print('-- string --')\n",
    "        print(parent)"
   ]
  },
  {
   "cell_type": "markdown",
   "id": "2693d6bb",
   "metadata": {},
   "source": [
    "データ型を判別し、データ型ごとに出力が変わるようになっている。"
   ]
  },
  {
   "cell_type": "raw",
   "id": "a0e1c8ad",
   "metadata": {},
   "source": [
    "isinstance(A,データ型)"
   ]
  },
  {
   "cell_type": "markdown",
   "id": "3e9a6bef",
   "metadata": {},
   "source": [
    "Aのデータ型が後ろのデータ型名と一致しているかを確認する。  \n",
    "もしあっていたら、Trueを返す。"
   ]
  },
  {
   "cell_type": "code",
   "execution_count": null,
   "id": "0d09be36",
   "metadata": {},
   "outputs": [],
   "source": []
  }
 ],
 "metadata": {
  "kernelspec": {
   "display_name": "Python 3",
   "language": "python",
   "name": "python3"
  },
  "language_info": {
   "codemirror_mode": {
    "name": "ipython",
    "version": 3
   },
   "file_extension": ".py",
   "mimetype": "text/x-python",
   "name": "python",
   "nbconvert_exporter": "python",
   "pygments_lexer": "ipython3",
   "version": "3.8.8"
  }
 },
 "nbformat": 4,
 "nbformat_minor": 5
}
