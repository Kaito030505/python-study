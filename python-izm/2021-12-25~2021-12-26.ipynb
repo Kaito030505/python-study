{
 "cells": [
  {
   "cell_type": "markdown",
   "id": "df32633c",
   "metadata": {},
   "source": [
    "# メソッドの種類の判別\n",
    "- オブジェクト指向\n",
    "- インスタンスメソッド\n",
    "- スタティックメソッド"
   ]
  },
  {
   "cell_type": "code",
   "execution_count": 2,
   "id": "49c9f23a",
   "metadata": {},
   "outputs": [
    {
     "name": "stdout",
     "output_type": "stream",
     "text": [
      "50159.99999999999\n"
     ]
    }
   ],
   "source": [
    "\n",
    "class charactors:\n",
    "    def __init__(self,ATK,HEAL,SHIELD,BUFFER,types):\n",
    "        self.ATK=ATK\n",
    "        self.HEAL=HEAL\n",
    "        self.SHIELD=BUFFER\n",
    "        self.BUFFER=BUFFER\n",
    "        self.types=types\n",
    "\n",
    "class party_member(charactors):\n",
    "    element=['Pyro','Hydro','Dendro','Electro','Anemo','Cryo','Geo']\n",
    "    \n",
    "    @staticmethod\n",
    "    def Elemental_Resonance():\n",
    "        party_element=[]\n",
    "        number=party_element.count\n",
    "        for x in party:\n",
    "            party_element.append(x.types)\n",
    "        if number('Pyro')>=2:\n",
    "            a=1.25\n",
    "        else:\n",
    "            a=1\n",
    "        if number('Hydro')>=2:\n",
    "            h=1.2\n",
    "        else:\n",
    "            h=1\n",
    "        if number('Dendro')>=2:\n",
    "            pass\n",
    "        if number('Electoro')>=2:\n",
    "            pass\n",
    "        if number('Cryo')>=2:\n",
    "            c=1.2\n",
    "        else:\n",
    "            c=1\n",
    "        if number('Geo')>=2:\n",
    "            d+=0.1*number('Geo')\n",
    "        else:\n",
    "            d=1\n",
    "        return (a*c*d,h)\n",
    "\n",
    "Hutao=charactors(10,2,1,3,'Pyro')\n",
    "Xingqiu=charactors(6,4,4,2,'Hydro')\n",
    "Diona=charactors(1,6,8,3,'Cryo')\n",
    "Barbara=charactors(5,7,1,2,'Hydro')\n",
    "Qiqi=charactors(9,10,1,1,'cryo')\n",
    "Fischl=charactors(5,1,1,8,'Electro')\n",
    "Xiangling=charactors(8,1,1,2,'Pyro')\n",
    "\n",
    "party=[Hutao,Xingqiu,Diona,Barbara]\n",
    "\n",
    "\n",
    "def party_score():\n",
    "    A=H=S=B=0\n",
    "    for x in party:\n",
    "        A=A+x.ATK*party_member.Elemental_Resonance()[0]\n",
    "        H=H+x.HEAL*party_member.Elemental_Resonance()[1]\n",
    "        S=S+x.SHIELD\n",
    "        B=B+x.BUFFER\n",
    "        \n",
    "    return (A,H,S,B,A*H*S*B)\n",
    "\n",
    "print(party_score()[4])\n",
    "\n"
   ]
  },
  {
   "cell_type": "markdown",
   "id": "0c9184fe",
   "metadata": {},
   "source": [
    "1. まずは、オブジェクト指向を当てはめてキャラクターの要素を決定した。\n",
    "2. 次にキャラクターごとに要素に得点を付けた。\n",
    " - 変数では引数にはなれない\n",
    " - 変数でないとインスタンス名になれない\n",
    "3. キャラクターごとの内容ではない部分をスタティックメソッドにて表記した。\n",
    " - スタティックメソッドのif文においてelse文がないと文字の定義がなくなりのちの式に出てくる変数が定義されていない状態でエラーが発生する。\n",
    "4. パーティ編成を決定した。\n",
    "5. 初期値にそれぞれ0を設定する\n",
    "6. バランスが良いほうが得点が高くなるように、パーティ全体の要素をそれぞれ和で出し、それをかけている。"
   ]
  },
  {
   "cell_type": "markdown",
   "id": "36b2d4ab",
   "metadata": {},
   "source": [
    "一度このプログラムは完成とし、学習を進める。  \n",
    "次回はpython izmを進めます。"
   ]
  },
  {
   "cell_type": "code",
   "execution_count": null,
   "id": "4251739c",
   "metadata": {},
   "outputs": [],
   "source": []
  }
 ],
 "metadata": {
  "kernelspec": {
   "display_name": "Python 3",
   "language": "python",
   "name": "python3"
  },
  "language_info": {
   "codemirror_mode": {
    "name": "ipython",
    "version": 3
   },
   "file_extension": ".py",
   "mimetype": "text/x-python",
   "name": "python",
   "nbconvert_exporter": "python",
   "pygments_lexer": "ipython3",
   "version": "3.8.8"
  }
 },
 "nbformat": 4,
 "nbformat_minor": 5
}
