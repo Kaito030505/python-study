{
 "cells": [
  {
   "cell_type": "markdown",
   "id": "6d0d0d00",
   "metadata": {},
   "source": [
    "# 複数のリストを同時に処理"
   ]
  },
  {
   "cell_type": "code",
   "execution_count": 1,
   "id": "a564a785",
   "metadata": {},
   "outputs": [
    {
     "name": "stdout",
     "output_type": "stream",
     "text": [
      "desktop / 12\n",
      "laptop / 83\n",
      "tablet / 55\n",
      "smartphone / 0\n"
     ]
    }
   ],
   "source": [
    "item_list = ['desktop', 'laptop', 'tablet', 'smartphone']\n",
    "stock_list = [12, 83, 55, 0]\n",
    " \n",
    "for item_name, stock_count in zip(item_list, stock_list):\n",
    "    print('{} / {}'.format(item_name, stock_count))"
   ]
  },
  {
   "cell_type": "markdown",
   "id": "8000d49f",
   "metadata": {},
   "source": [
    "item_listのn個目、stock_listのn個目がitem_name、stock_countに代入されて出力  \n",
    ".formatで{}に順に代入される。  \n",
    "in zip()という形になることに注意"
   ]
  },
  {
   "cell_type": "code",
   "execution_count": 3,
   "id": "76d91eea",
   "metadata": {},
   "outputs": [
    {
     "name": "stdout",
     "output_type": "stream",
     "text": [
      "desktop / 12\n",
      "laptop / 83\n",
      "tablet / 55\n"
     ]
    }
   ],
   "source": [
    "item_list = ['desktop', 'laptop', 'tablet', 'smartphone']\n",
    "stock_list = [12, 83, 55]\n",
    " \n",
    "for item_name, stock_count in zip(item_list, stock_list):\n",
    "    print('{} / {}'.format(item_name, stock_count))"
   ]
  },
  {
   "cell_type": "code",
   "execution_count": null,
   "id": "f51a16ae",
   "metadata": {},
   "outputs": [],
   "source": []
  }
 ],
 "metadata": {
  "kernelspec": {
   "display_name": "Python 3",
   "language": "python",
   "name": "python3"
  },
  "language_info": {
   "codemirror_mode": {
    "name": "ipython",
    "version": 3
   },
   "file_extension": ".py",
   "mimetype": "text/x-python",
   "name": "python",
   "nbconvert_exporter": "python",
   "pygments_lexer": "ipython3",
   "version": "3.8.8"
  }
 },
 "nbformat": 4,
 "nbformat_minor": 5
}
