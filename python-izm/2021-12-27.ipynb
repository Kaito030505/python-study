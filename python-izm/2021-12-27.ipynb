{
 "cells": [
  {
   "cell_type": "markdown",
   "id": "77addcc8",
   "metadata": {},
   "source": [
    "# with文"
   ]
  },
  {
   "cell_type": "code",
   "execution_count": 2,
   "id": "4ad240e7",
   "metadata": {},
   "outputs": [
    {
     "name": "stdout",
     "output_type": "stream",
     "text": [
      "False\n",
      "True\n"
     ]
    }
   ],
   "source": [
    "with open('file.txt') as f:\n",
    "    \n",
    "    print(f.closed)\n",
    "print(f.closed)"
   ]
  },
  {
   "cell_type": "markdown",
   "id": "40b55414",
   "metadata": {},
   "source": [
    "# コンテキストマネージャ"
   ]
  },
  {
   "cell_type": "code",
   "execution_count": 17,
   "id": "8efed023",
   "metadata": {},
   "outputs": [
    {
     "name": "stdout",
     "output_type": "stream",
     "text": [
      "Hello world\n"
     ]
    }
   ],
   "source": [
    "f=open('file.txt')\n",
    "try:\n",
    "    print('Hello world')\n",
    "except:\n",
    "    pass\n",
    "\n",
    "finally:\n",
    "    f.close()"
   ]
  },
  {
   "cell_type": "code",
   "execution_count": 44,
   "id": "1e5742e2",
   "metadata": {},
   "outputs": [
    {
     "name": "stdout",
     "output_type": "stream",
     "text": [
      "__enter__\n",
      "hello\n",
      "__exit__\n"
     ]
    }
   ],
   "source": [
    "class contextmanagertest:\n",
    "    def __enter__(self):\n",
    "        print('__enter__')\n",
    "    def __exit__(self,exc_type,exc_value,traceback):\n",
    "        print('__exit__')\n",
    "\n",
    "with contextmanagertest():\n",
    "    print('hello')\n"
   ]
  },
  {
   "cell_type": "markdown",
   "id": "b21604f2",
   "metadata": {},
   "source": [
    "特殊メソッド'__enter__','__exit__'の二つの関数が組み込まれている場合、そのクラスや関数を実行する際にwith以下を間に挿入する。  \n",
    "コンテキストマネージャーとして使うなら、exitは必ず引数が４個必要、enterにはselfの引数以外は使えない\n",
    "'__enter__()呼び出しで組み立てられて、__exit__()呼び出しで取り壊される環境'とのこと  \n",
    "[コンテキストマネージャ参考](https://qiita.com/rmiyamoto/items/d9f49b0ad93cbe3a1b3b)  "
   ]
  },
  {
   "cell_type": "markdown",
   "id": "06f565ed",
   "metadata": {},
   "source": [
    "# メモ\n",
    "- インスタンスメソッドにおいて、__init__関数が定義されていないと、インスタンス化の際に引数が必要ないと判断されてしまう。"
   ]
  },
  {
   "cell_type": "code",
   "execution_count": 43,
   "id": "981d1707",
   "metadata": {},
   "outputs": [
    {
     "name": "stdout",
     "output_type": "stream",
     "text": [
      "__enter__\n",
      "__exit__\n",
      "<class 'ValueError'>\n",
      "invalid literal for int() with base 10: 'abc'\n",
      "<traceback object at 0x00000261102FBF00>\n"
     ]
    }
   ],
   "source": [
    "class ContextManagerTest:\n",
    " \n",
    "    def __enter__(self):\n",
    "        print('__enter__')\n",
    " \n",
    "    def __exit__(self, exc_type, exc_value, traceback):\n",
    "        print('__exit__')\n",
    "        print(exc_type)\n",
    "        print(exc_value)\n",
    "        print(traceback)\n",
    "        return True\n",
    " \n",
    " \n",
    "with ContextManagerTest():\n",
    "    val = int('abc')"
   ]
  },
  {
   "cell_type": "markdown",
   "id": "02990f53",
   "metadata": {},
   "source": [
    "return trueによってエラーを処理している。"
   ]
  },
  {
   "cell_type": "code",
   "execution_count": 41,
   "id": "626ea4b5",
   "metadata": {},
   "outputs": [
    {
     "name": "stdout",
     "output_type": "stream",
     "text": [
      "enter\n",
      "with\n",
      "exit\n"
     ]
    }
   ],
   "source": [
    "from contextlib import contextmanager\n",
    " \n",
    " \n",
    "@contextmanager\n",
    "def context_manager_test():\n",
    "    print('enter')\n",
    "    yield\n",
    "    print('exit')\n",
    " \n",
    " \n",
    "with context_manager_test():\n",
    "    print('with')"
   ]
  },
  {
   "cell_type": "markdown",
   "id": "7523c465",
   "metadata": {},
   "source": [
    "前者はクラスがコンテキストマネージャになっているが後者では関数がコンテキストマネージャになっている。"
   ]
  },
  {
   "cell_type": "code",
   "execution_count": null,
   "id": "74e51563",
   "metadata": {},
   "outputs": [],
   "source": []
  }
 ],
 "metadata": {
  "kernelspec": {
   "display_name": "Python 3",
   "language": "python",
   "name": "python3"
  },
  "language_info": {
   "codemirror_mode": {
    "name": "ipython",
    "version": 3
   },
   "file_extension": ".py",
   "mimetype": "text/x-python",
   "name": "python",
   "nbconvert_exporter": "python",
   "pygments_lexer": "ipython3",
   "version": "3.8.8"
  }
 },
 "nbformat": 4,
 "nbformat_minor": 5
}
