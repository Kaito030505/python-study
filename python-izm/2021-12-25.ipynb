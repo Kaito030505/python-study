{
 "cells": [
  {
   "cell_type": "markdown",
   "id": "df32633c",
   "metadata": {},
   "source": [
    "# メソッドの種類の判別\n",
    "- オブジェクト指向\n",
    "- インスタンスメソッド\n",
    "- スタティックメソッド"
   ]
  },
  {
   "cell_type": "code",
   "execution_count": 19,
   "id": "49c9f23a",
   "metadata": {},
   "outputs": [
    {
     "name": "stdout",
     "output_type": "stream",
     "text": [
      "(23, 19, 10, 10, 43700)\n",
      "10\n",
      "0\n"
     ]
    }
   ],
   "source": [
    "class charactors:\n",
    "    def __init__(self,ATK,HEAL,SHIELD,BUFFER,types):\n",
    "        self.ATK=ATK\n",
    "        self.HEAL=HEAL\n",
    "        self.SHIELD=BUFFER\n",
    "        self.BUFFER=BUFFER\n",
    "        self.types=types\n",
    "        \n",
    "        \n",
    "    \n",
    "Hutao=charactors(10,2,1,3,'Pyro')\n",
    "Xingqiu=charactors(7,4,4,2,'Hydro')\n",
    "Diona=charactors(1,6,8,3,'Cryo')\n",
    "Barbara=charactors(5,7,1,2,'Hydro')\n",
    "        \n",
    "party=[Hutao,Xingqiu,Diona,Barbara]\n",
    "#A=H=S=B=0\n",
    "\n",
    "'''\n",
    "def party_score(x,A,H,S,B):\n",
    "    A=A+x.ATK\n",
    "    H=H+x.HEAL\n",
    "    S=S+x.SHIELD\n",
    "    B=B+x.BUFFER\n",
    "    return A+H+S+B\n",
    "'''\n",
    "def party_score():\n",
    "    A=H=S=B=0\n",
    "    for x in party:\n",
    "        A=A+x.ATK\n",
    "        H=H+x.HEAL\n",
    "        S=S+x.SHIELD\n",
    "        B=B+x.BUFFER\n",
    "    return (A,H,S,B,A*H*S*B)\n",
    "\n",
    "print(party_score())\n",
    "print(Hutao.ATK)\n",
    "\n",
    "print(A*H*S*B)"
   ]
  },
  {
   "cell_type": "markdown",
   "id": "0c9184fe",
   "metadata": {},
   "source": [
    "1. まずは、オブジェクト指向を当てはめてキャラクターの要素を決定した。\n",
    "2. 次にキャラクターごとに要素に得点を付けた。\n",
    " - 変数では引数にはなれない\n",
    " - 変数でないとインスタンス名になれない\n",
    "3. パーティ編成を決定した。\n",
    "4. 初期値にそれぞれ0を設定する\n",
    "5. バランスが良いほうが得点が高くなるように、パーティ全体の要素をそれぞれ和で出し、それをかけている。"
   ]
  },
  {
   "cell_type": "markdown",
   "id": "cc555c81",
   "metadata": {},
   "source": [
    "# スタティックメソッド"
   ]
  },
  {
   "cell_type": "code",
   "execution_count": 22,
   "id": "0165cbea",
   "metadata": {},
   "outputs": [],
   "source": [
    "element=['Pyro','Hydro','Dendro','Electro','Anemo','Cryo','Geo']\n",
    "party_element=[]\n",
    "for x in party:\n",
    "    party_element.append(x.types)"
   ]
  },
  {
   "cell_type": "code",
   "execution_count": 4,
   "id": "d48d352e",
   "metadata": {},
   "outputs": [
    {
     "ename": "SyntaxError",
     "evalue": "invalid syntax (<ipython-input-4-2023aa3984c3>, line 1)",
     "output_type": "error",
     "traceback": [
      "\u001b[1;36m  File \u001b[1;32m\"<ipython-input-4-2023aa3984c3>\"\u001b[1;36m, line \u001b[1;32m1\u001b[0m\n\u001b[1;33m    if party_element.count('Pyro')=2:\u001b[0m\n\u001b[1;37m                                  ^\u001b[0m\n\u001b[1;31mSyntaxError\u001b[0m\u001b[1;31m:\u001b[0m invalid syntax\n"
     ]
    }
   ],
   "source": [
    "if party_element.count('Pyro')=>2:\n",
    "    a=1.25\n",
    "\n",
    "    "
   ]
  },
  {
   "cell_type": "markdown",
   "id": "cfee2ccd",
   "metadata": {},
   "source": [
    "@staticmethod\n",
    "        def Elemental_Resonance:\n",
    "        "
   ]
  }
 ],
 "metadata": {
  "kernelspec": {
   "display_name": "Python 3",
   "language": "python",
   "name": "python3"
  },
  "language_info": {
   "codemirror_mode": {
    "name": "ipython",
    "version": 3
   },
   "file_extension": ".py",
   "mimetype": "text/x-python",
   "name": "python",
   "nbconvert_exporter": "python",
   "pygments_lexer": "ipython3",
   "version": "3.8.8"
  }
 },
 "nbformat": 4,
 "nbformat_minor": 5
}
