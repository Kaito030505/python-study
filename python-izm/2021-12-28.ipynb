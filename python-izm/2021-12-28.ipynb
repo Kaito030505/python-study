{
 "cells": [
  {
   "cell_type": "markdown",
   "id": "dc7ea0e4",
   "metadata": {},
   "source": [
    "# プロパティ"
   ]
  },
  {
   "cell_type": "code",
   "execution_count": 4,
   "id": "ce4b12ca",
   "metadata": {},
   "outputs": [
    {
     "name": "stdout",
     "output_type": "stream",
     "text": [
      "--get--\n"
     ]
    },
    {
     "data": {
      "text/plain": [
       "'https://www.python-izm.com/'"
      ]
     },
     "execution_count": 4,
     "metadata": {},
     "output_type": "execute_result"
    }
   ],
   "source": [
    "class propertytest(object):\n",
    "    def __init__(self,url):\n",
    "        self._url=url\n",
    "    def get_url(self):\n",
    "        print('--get--')\n",
    "        return self._url\n",
    "    url=property(get_url)\n",
    "    \n",
    "prop=propertytest('https://www.python-izm.com/')\n",
    "prop.url"
   ]
  },
  {
   "cell_type": "markdown",
   "id": "f8d3181f",
   "metadata": {},
   "source": [
    "property関数以外は今までのものと変わらない  \n",
    "property関数は今までの概念に当てはめずに考えることにする。  \n",
    "getterは内部のインスタンス変数の変数名をインスタンス内で完結させるためのもの  \n",
    "setterはインスタンス内部の変数に格納されている情報を書き換えるためのもの  \n",
    "[参考URL](https://naruport.com/blog/2019/8/27/python-tutorial-class-property-getter-setter/)"
   ]
  },
  {
   "cell_type": "code",
   "execution_count": 8,
   "id": "56633dbe",
   "metadata": {},
   "outputs": [
    {
     "name": "stdout",
     "output_type": "stream",
     "text": [
      "-- set_url --\n",
      "-- get_url --\n",
      "python-izm\n"
     ]
    }
   ],
   "source": [
    "class PropertyTest(object):\n",
    " \n",
    "    def __init__(self, url):\n",
    "        self._url = url\n",
    " \n",
    "    def get_url(self):\n",
    "        print('-- get_url --')\n",
    "        return self._url\n",
    " \n",
    "    def set_url(self, url):\n",
    "        print('-- set_url --')\n",
    "        self._url = url\n",
    " \n",
    "    def del_url(self):\n",
    "        del self._url\n",
    " \n",
    "    url = property(get_url, set_url, del_url, 'url Property')\n",
    " \n",
    " \n",
    "prop = PropertyTest('https://www.python-izm.com/')\n",
    " \n",
    "# setter（set_url）にアクセス\n",
    "prop.url = 'python-izm'\n",
    " \n",
    "# getter（get_url）にアクセス\n",
    "print(prop.url)\n",
    "\n"
   ]
  },
  {
   "cell_type": "markdown",
   "id": "f8d0fa81",
   "metadata": {},
   "source": [
    "objectというクラスの中の['https://www.python-izm.com/']\n",
    "の中のurlというプロパティにアクセスしそれを書き換えている。\n",
    "'python izm'はクラス内のurlに、('https://www.python-izm.com/')\n",
    "はselfに当たる\n"
   ]
  },
  {
   "cell_type": "code",
   "execution_count": 15,
   "id": "ae17f6f5",
   "metadata": {},
   "outputs": [
    {
     "name": "stdout",
     "output_type": "stream",
     "text": [
      "ミケ\n"
     ]
    }
   ],
   "source": [
    "class Cat:\n",
    "    def __init__(self):\n",
    "        self.cute_name='ミケ'\n",
    "cat1=Cat()\n",
    "print(cat1.cute_name)"
   ]
  },
  {
   "cell_type": "markdown",
   "id": "e3a10d9b",
   "metadata": {},
   "source": [
    "この場合、インスタンスごとにcute_name変数に当てはめる文字列を想定していない  \n",
    "つまりどの猫も、名前はミケとなる"
   ]
  },
  {
   "cell_type": "code",
   "execution_count": 17,
   "id": "a570b712",
   "metadata": {},
   "outputs": [
    {
     "name": "stdout",
     "output_type": "stream",
     "text": [
      "クロ\n"
     ]
    }
   ],
   "source": [
    "class Cat:\n",
    "    def __init__(self,second_name):\n",
    "        self.cute_name='ミケ'\n",
    "        self.second_name=second_name\n",
    "cat1=Cat('クロ')\n",
    "print(cat1.second_name)"
   ]
  },
  {
   "cell_type": "markdown",
   "id": "39c1f989",
   "metadata": {},
   "source": [
    "この場合、インスタンスごとに変数を変えられる。\n",
    "セッターは用いてない"
   ]
  },
  {
   "cell_type": "code",
   "execution_count": 18,
   "id": "78dd8545",
   "metadata": {},
   "outputs": [],
   "source": [
    "class Cat:\n",
    "    def __init__(self):\n",
    "        self.name = 'ミケ'\n",
    "\n",
    "    def set_name(self, name):\n",
    "        self.name = name\n",
    "\n",
    "\n",
    "cat = Cat()\n",
    "cat.set_name('タマ')"
   ]
  },
  {
   "cell_type": "code",
   "execution_count": 22,
   "id": "c3566f8c",
   "metadata": {},
   "outputs": [],
   "source": [
    "class Cat:\n",
    "    def __init__(self):\n",
    "        self.__name = 'ミケ'\n",
    "\n",
    "    @property\n",
    "    def name(self):\n",
    "        pass\n",
    "\n",
    "    @name.getter\n",
    "    def name(self):\n",
    "        print('ゲッターを呼び出しました')\n",
    "        return self.__name\n",
    "    @name.setter\n",
    "    def name(self, name):\n",
    "        print('セッターを呼び出しました')\n",
    "        self.__name = name"
   ]
  },
  {
   "cell_type": "code",
   "execution_count": 24,
   "id": "09fd7c54",
   "metadata": {},
   "outputs": [
    {
     "name": "stdout",
     "output_type": "stream",
     "text": [
      "ゲッターを呼び出しました\n",
      "ミケ\n",
      "セッターを呼び出しました\n",
      "ゲッターを呼び出しました\n",
      "kuro\n"
     ]
    }
   ],
   "source": [
    "cat=Cat()\n",
    "print(cat.name)\n",
    "\n",
    "cat.name='kuro'\n",
    "print(cat.name)"
   ]
  },
  {
   "cell_type": "markdown",
   "id": "a9636019",
   "metadata": {},
   "source": [
    "出力する際にはゲッターを、入力する際にはセッターが動く"
   ]
  },
  {
   "cell_type": "code",
   "execution_count": null,
   "id": "01a0defa",
   "metadata": {},
   "outputs": [],
   "source": []
  }
 ],
 "metadata": {
  "kernelspec": {
   "display_name": "Python 3",
   "language": "python",
   "name": "python3"
  },
  "language_info": {
   "codemirror_mode": {
    "name": "ipython",
    "version": 3
   },
   "file_extension": ".py",
   "mimetype": "text/x-python",
   "name": "python",
   "nbconvert_exporter": "python",
   "pygments_lexer": "ipython3",
   "version": "3.8.8"
  }
 },
 "nbformat": 4,
 "nbformat_minor": 5
}
