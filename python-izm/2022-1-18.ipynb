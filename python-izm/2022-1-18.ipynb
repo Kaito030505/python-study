{
 "cells": [
  {
   "cell_type": "markdown",
   "id": "4708a498",
   "metadata": {},
   "source": [
    "# 呼び出し可能チェック"
   ]
  },
  {
   "cell_type": "code",
   "execution_count": 1,
   "id": "59093357",
   "metadata": {},
   "outputs": [
    {
     "name": "stdout",
     "output_type": "stream",
     "text": [
      "False\n",
      "True\n",
      "True\n",
      "False\n"
     ]
    }
   ],
   "source": [
    "import sys\n",
    " \n",
    "\n",
    "def func_test():\n",
    "    print('function')\n",
    "    \n",
    "    \n",
    "class ClassTest():\n",
    "    pass\n",
    " \n",
    "\n",
    "str_test = 'str'\n",
    " \n",
    "\n",
    "print(callable(sys))\n",
    "print(callable(func_test))\n",
    "print(callable(ClassTest))\n",
    "print(callable(str_test))"
   ]
  },
  {
   "cell_type": "markdown",
   "id": "b50b579b",
   "metadata": {},
   "source": [
    "呼び出し可能なオブジェクトの場合、True、呼び出し不可能なオブジェクトの場合、Falseを返す。"
   ]
  },
  {
   "cell_type": "markdown",
   "id": "3ebbde0f",
   "metadata": {},
   "source": [
    "## 最大値、最小値の取得"
   ]
  },
  {
   "cell_type": "code",
   "execution_count": 2,
   "id": "ca7ede56",
   "metadata": {},
   "outputs": [
    {
     "name": "stdout",
     "output_type": "stream",
     "text": [
      "3\n",
      "A\n"
     ]
    }
   ],
   "source": [
    "print(min([10, 20, 30, 20, 5, 3]))\n",
    "print(min('Z', 'A', 'J', 'W'))"
   ]
  },
  {
   "cell_type": "code",
   "execution_count": 3,
   "id": "735492c0",
   "metadata": {},
   "outputs": [
    {
     "name": "stdout",
     "output_type": "stream",
     "text": [
      "30\n",
      "Z\n"
     ]
    }
   ],
   "source": [
    "print(max([10, 20, 30, 20, 5, 3]))\n",
    "print(max('Z', 'A', 'J', 'W'))"
   ]
  },
  {
   "cell_type": "code",
   "execution_count": 4,
   "id": "41745729",
   "metadata": {},
   "outputs": [
    {
     "name": "stdout",
     "output_type": "stream",
     "text": [
      "2\n",
      "111\n"
     ]
    }
   ],
   "source": [
    "def key_func(n):\n",
    "    return int(n)\n",
    " \n",
    "\n",
    "l = [2, 3, 4, '111']\n",
    " \n",
    "print(min(l, key=key_func))\n",
    "print(max(l, key=key_func))"
   ]
  },
  {
   "cell_type": "code",
   "execution_count": 6,
   "id": "640d869c",
   "metadata": {},
   "outputs": [
    {
     "name": "stdout",
     "output_type": "stream",
     "text": [
      "111\n",
      "4\n"
     ]
    }
   ],
   "source": [
    "def key_func(n):\n",
    "    return str(n)\n",
    " \n",
    "\n",
    "l = [2, 3, 4, '111']\n",
    " \n",
    "print(min(l, key=key_func))\n",
    "print(max(l, key=key_func))"
   ]
  },
  {
   "cell_type": "markdown",
   "id": "579330c1",
   "metadata": {},
   "source": [
    "min,max関数はソート時にkeyを設定できる。Aをリスト名とすると、  \n",
    "min or max(A,key)  \n",
    "と表す。"
   ]
  },
  {
   "cell_type": "code",
   "execution_count": 7,
   "id": "fdd301d6",
   "metadata": {},
   "outputs": [
    {
     "name": "stdout",
     "output_type": "stream",
     "text": [
      "(3, 'Perl', 40)\n",
      "(1, 'Python', 100)\n"
     ]
    }
   ],
   "source": [
    "def key_func(n):\n",
    "    return n[2]\n",
    " \n",
    "\n",
    "# code / name / score\n",
    "l = [(1, 'Python', 100), (2, 'Ruby', 80), (3, 'Perl', 40)]\n",
    " \n",
    "print(min(l, key=key_func))\n",
    "print(max(l, key=key_func))"
   ]
  },
  {
   "cell_type": "markdown",
   "id": "b6d4c05b",
   "metadata": {},
   "source": [
    "key_funcでリストのどこの値でソートするのかを決めている  \n",
    "今回は2なので３番目を使っている。"
   ]
  },
  {
   "cell_type": "code",
   "execution_count": 10,
   "id": "231fa3f1",
   "metadata": {},
   "outputs": [
    {
     "name": "stdout",
     "output_type": "stream",
     "text": [
      "(3, Perl, 40)\n",
      "(1, Python, 100)\n"
     ]
    }
   ],
   "source": [
    "def key_func(n):\n",
    "    return n.score\n",
    " \n",
    "\n",
    "class TestClass:\n",
    " \n",
    "    def __init__(self, code, name, score):\n",
    "        self.code = code\n",
    "        self.name = name\n",
    "        self.score = score\n",
    " \n",
    "    def __str__(self):\n",
    "        return '({}, {}, {})'.format(self.code, self.name, self.score)\n",
    " \n",
    " \n",
    "l = [\n",
    "    TestClass(1, 'Python', 100),\n",
    "    TestClass(2, 'Ruby', 80),\n",
    "    TestClass(3, 'Perl', 40)\n",
    "]\n",
    " \n",
    "print(min(l, key=key_func))\n",
    "print(max(l, key=key_func))\n"
   ]
  },
  {
   "cell_type": "markdown",
   "id": "c8b1e868",
   "metadata": {},
   "source": [
    "TestClassという名前のClassに(1,'python',100)を当てはめて実行したことで得られたタプルと同じ操作をした二つのタプルを用意して、lという名前のリストに組み込む。  \n",
    "その後scoreに関して比べろというkeyに従って、score順に大きいものと小さいものを出力した。"
   ]
  },
  {
   "cell_type": "markdown",
   "id": "ea561947",
   "metadata": {},
   "source": [
    "# 合計値の取得"
   ]
  },
  {
   "cell_type": "code",
   "execution_count": 11,
   "id": "09328a5b",
   "metadata": {},
   "outputs": [
    {
     "name": "stdout",
     "output_type": "stream",
     "text": [
      "88\n",
      "1088\n"
     ]
    }
   ],
   "source": [
    "num = [10, 20, 30, 20, 5, 3]\n",
    " \n",
    "print(sum(num))\n",
    "print(sum(num, 1000))"
   ]
  },
  {
   "cell_type": "markdown",
   "id": "94ab00f5",
   "metadata": {},
   "source": [
    "第２引数は初期値"
   ]
  },
  {
   "cell_type": "markdown",
   "id": "add0e621",
   "metadata": {},
   "source": [
    "# モジュールの属性取得"
   ]
  },
  {
   "cell_type": "code",
   "execution_count": 12,
   "id": "d54e1387",
   "metadata": {},
   "outputs": [
    {
     "name": "stdout",
     "output_type": "stream",
     "text": [
      "----------------------------------\n",
      "['ClassTest', 'In', 'Out', 'TestClass', '_', '_5', '__', '___', '__builtin__', '__builtins__', '__doc__', '__loader__', '__name__', '__package__', '__spec__', '_dh', '_i', '_i1', '_i10', '_i11', '_i12', '_i2', '_i3', '_i4', '_i5', '_i6', '_i7', '_i8', '_i9', '_ih', '_ii', '_iii', '_oh', 'exit', 'func_test', 'get_ipython', 'key_func', 'l', 'num', 'quit', 'str_test', 'sys']\n",
      "----------------------------------\n",
      "['ClassTest', 'In', 'Out', 'TestClass', '_', '_5', '__', '___', '__builtin__', '__builtins__', '__doc__', '__loader__', '__name__', '__package__', '__spec__', '_dh', '_i', '_i1', '_i10', '_i11', '_i12', '_i2', '_i3', '_i4', '_i5', '_i6', '_i7', '_i8', '_i9', '_ih', '_ii', '_iii', '_oh', 'exit', 'func_test', 'get_ipython', 'key_func', 'l', 'num', 'python_dir', 'quit', 'str_test', 'sys']\n",
      "----------------------------------\n",
      "__breakpointhook__\n",
      "__displayhook__\n",
      "__doc__\n",
      "__excepthook__\n",
      "__interactivehook__\n",
      "__loader__\n",
      "__name__\n",
      "__package__\n",
      "__spec__\n",
      "__stderr__\n",
      "__stdin__\n",
      "__stdout__\n",
      "__unraisablehook__\n",
      "_base_executable\n",
      "_clear_type_cache\n",
      "_current_frames\n",
      "_debugmallocstats\n",
      "_enablelegacywindowsfsencoding\n",
      "_framework\n",
      "_getframe\n",
      "_git\n",
      "_home\n",
      "_xoptions\n",
      "addaudithook\n",
      "api_version\n",
      "argv\n",
      "audit\n",
      "base_exec_prefix\n",
      "base_prefix\n",
      "breakpointhook\n",
      "builtin_module_names\n",
      "byteorder\n",
      "call_tracing\n",
      "callstats\n",
      "copyright\n",
      "displayhook\n",
      "dllhandle\n",
      "dont_write_bytecode\n",
      "exc_info\n",
      "excepthook\n",
      "exec_prefix\n",
      "executable\n",
      "exit\n",
      "flags\n",
      "float_info\n",
      "float_repr_style\n",
      "get_asyncgen_hooks\n",
      "get_coroutine_origin_tracking_depth\n",
      "getallocatedblocks\n",
      "getcheckinterval\n",
      "getdefaultencoding\n",
      "getfilesystemencodeerrors\n",
      "getfilesystemencoding\n",
      "getprofile\n",
      "getrecursionlimit\n",
      "getrefcount\n",
      "getsizeof\n",
      "getswitchinterval\n",
      "gettrace\n",
      "getwindowsversion\n",
      "hash_info\n",
      "hexversion\n",
      "implementation\n",
      "int_info\n",
      "intern\n",
      "is_finalizing\n",
      "maxsize\n",
      "maxunicode\n",
      "meta_path\n",
      "modules\n",
      "path\n",
      "path_hooks\n",
      "path_importer_cache\n",
      "platform\n",
      "prefix\n",
      "ps1\n",
      "ps2\n",
      "ps3\n",
      "pycache_prefix\n",
      "set_asyncgen_hooks\n",
      "set_coroutine_origin_tracking_depth\n",
      "setcheckinterval\n",
      "setprofile\n",
      "setrecursionlimit\n",
      "setswitchinterval\n",
      "settrace\n",
      "stderr\n",
      "stdin\n",
      "stdout\n",
      "thread_info\n",
      "unraisablehook\n",
      "version\n",
      "version_info\n",
      "warnoptions\n",
      "winver\n"
     ]
    }
   ],
   "source": [
    "print('----------------------------------')\n",
    "print(dir())\n",
    " \n",
    "python_dir = 'python-izm'\n",
    " \n",
    "print('----------------------------------')\n",
    "print(dir())\n",
    " \n",
    "print('----------------------------------')\n",
    "import sys\n",
    "for one in dir(sys):\n",
    "    print(one)"
   ]
  },
  {
   "cell_type": "markdown",
   "id": "f50c6be7",
   "metadata": {},
   "source": [
    "# セパレータの取得"
   ]
  },
  {
   "cell_type": "code",
   "execution_count": 13,
   "id": "131a427c",
   "metadata": {},
   "outputs": [
    {
     "name": "stdout",
     "output_type": "stream",
     "text": [
      "\\\n",
      ";\n",
      ".\n"
     ]
    }
   ],
   "source": [
    "import os\n",
    " \n",
    "print(os.sep)\n",
    "print(os.pathsep)\n",
    "print(os.extsep)"
   ]
  },
  {
   "cell_type": "markdown",
   "id": "b954db4f",
   "metadata": {},
   "source": [
    "# ファイル拡張子の取得"
   ]
  },
  {
   "cell_type": "code",
   "execution_count": 14,
   "id": "7a4d01fb",
   "metadata": {},
   "outputs": [
    {
     "name": "stdout",
     "output_type": "stream",
     "text": [
      "('splitext', '.py')\n",
      "('c:/python/splitext', '.txt')\n",
      "('splitext', '')\n"
     ]
    }
   ],
   "source": [
    "import os.path\n",
    " \n",
    "print(os.path.splitext('splitext.py'))\n",
    "print(os.path.splitext('c:/python/splitext.txt'))\n",
    "print(os.path.splitext('splitext'))"
   ]
  },
  {
   "cell_type": "code",
   "execution_count": null,
   "id": "11375c1f",
   "metadata": {},
   "outputs": [],
   "source": []
  }
 ],
 "metadata": {
  "kernelspec": {
   "display_name": "Python 3",
   "language": "python",
   "name": "python3"
  },
  "language_info": {
   "codemirror_mode": {
    "name": "ipython",
    "version": 3
   },
   "file_extension": ".py",
   "mimetype": "text/x-python",
   "name": "python",
   "nbconvert_exporter": "python",
   "pygments_lexer": "ipython3",
   "version": "3.8.8"
  }
 },
 "nbformat": 4,
 "nbformat_minor": 5
}
